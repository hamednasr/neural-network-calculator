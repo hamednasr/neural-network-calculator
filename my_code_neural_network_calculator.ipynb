{
  "nbformat": 4,
  "nbformat_minor": 0,
  "metadata": {
    "colab": {
      "name": "my code - neural network calculator.ipynb",
      "provenance": [],
      "collapsed_sections": [],
      "authorship_tag": "ABX9TyMFnw/5PgQwXlRAFVEWxKez",
      "include_colab_link": true
    },
    "kernelspec": {
      "name": "python3",
      "display_name": "Python 3"
    },
    "language_info": {
      "name": "python"
    }
  },
  "cells": [
    {
      "cell_type": "markdown",
      "metadata": {
        "id": "view-in-github",
        "colab_type": "text"
      },
      "source": [
        "<a href=\"https://colab.research.google.com/github/hamednasr/neural-network-calculator/blob/main/my_code_neural_network_calculator.ipynb\" target=\"_parent\"><img src=\"https://colab.research.google.com/assets/colab-badge.svg\" alt=\"Open In Colab\"/></a>"
      ]
    },
    {
      "cell_type": "code",
      "metadata": {
        "id": "w4MmkWvSok0U"
      },
      "source": [
        "import torch\n",
        "import torch.nn as nn\n",
        "import torch.nn.functional as F\n",
        "import numpy as np\n",
        "import matplotlib.pyplot as plt"
      ],
      "execution_count": 30,
      "outputs": []
    },
    {
      "cell_type": "code",
      "metadata": {
        "colab": {
          "base_uri": "https://localhost:8080/"
        },
        "id": "VVEsqLuBpBC7",
        "outputId": "7163a9c5-f665-4163-e218-dbd4c17e74e1"
      },
      "source": [
        "data = np.random.randint(-20,21,(3000,2))\n",
        "data"
      ],
      "execution_count": 31,
      "outputs": [
        {
          "output_type": "execute_result",
          "data": {
            "text/plain": [
              "array([[ -7, -13],\n",
              "       [-19,   6],\n",
              "       [-10,  -9],\n",
              "       ...,\n",
              "       [  2,   9],\n",
              "       [ 19,  -2],\n",
              "       [ -5,  10]])"
            ]
          },
          "metadata": {},
          "execution_count": 31
        }
      ]
    },
    {
      "cell_type": "code",
      "metadata": {
        "colab": {
          "base_uri": "https://localhost:8080/"
        },
        "id": "Ln8E4CQNpYnR",
        "outputId": "10c9f930-8692-4fa9-9e7a-02d51171f364"
      },
      "source": [
        "labels = np.sum(data, axis =1)\n",
        "labels"
      ],
      "execution_count": 32,
      "outputs": [
        {
          "output_type": "execute_result",
          "data": {
            "text/plain": [
              "array([-20, -13, -19, ...,  11,  17,   5])"
            ]
          },
          "metadata": {},
          "execution_count": 32
        }
      ]
    },
    {
      "cell_type": "code",
      "metadata": {
        "colab": {
          "base_uri": "https://localhost:8080/"
        },
        "id": "OciaALhLqdCr",
        "outputId": "c11ff390-25f8-4e08-a845-235af98aee8d"
      },
      "source": [
        "dataT = torch.tensor(data)\n",
        "dataT"
      ],
      "execution_count": 33,
      "outputs": [
        {
          "output_type": "execute_result",
          "data": {
            "text/plain": [
              "tensor([[ -7, -13],\n",
              "        [-19,   6],\n",
              "        [-10,  -9],\n",
              "        ...,\n",
              "        [  2,   9],\n",
              "        [ 19,  -2],\n",
              "        [ -5,  10]])"
            ]
          },
          "metadata": {},
          "execution_count": 33
        }
      ]
    },
    {
      "cell_type": "code",
      "metadata": {
        "colab": {
          "base_uri": "https://localhost:8080/"
        },
        "id": "ViXOfduRq78M",
        "outputId": "1fc1d3b3-b15a-4c78-e877-852613a8fccb"
      },
      "source": [
        "labelsT=torch.tensor(labels)\n",
        "labelsT"
      ],
      "execution_count": 34,
      "outputs": [
        {
          "output_type": "execute_result",
          "data": {
            "text/plain": [
              "tensor([-20, -13, -19,  ...,  11,  17,   5])"
            ]
          },
          "metadata": {},
          "execution_count": 34
        }
      ]
    },
    {
      "cell_type": "code",
      "metadata": {
        "id": "lomKtr-JrKcD"
      },
      "source": [
        ""
      ],
      "execution_count": 34,
      "outputs": []
    }
  ]
}