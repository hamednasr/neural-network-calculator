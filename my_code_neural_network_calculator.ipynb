{
  "nbformat": 4,
  "nbformat_minor": 0,
  "metadata": {
    "colab": {
      "name": "my code - neural network calculator.ipynb",
      "provenance": [],
      "collapsed_sections": [],
      "authorship_tag": "ABX9TyN2WZImwBF0QJFKeNyCTSxW",
      "include_colab_link": true
    },
    "kernelspec": {
      "display_name": "Python 3",
      "name": "python3"
    },
    "language_info": {
      "name": "python"
    }
  },
  "cells": [
    {
      "cell_type": "markdown",
      "metadata": {
        "id": "view-in-github",
        "colab_type": "text"
      },
      "source": [
        "<a href=\"https://colab.research.google.com/github/hamednasr/neural-network-calculator/blob/main/my_code_neural_network_calculator.ipynb\" target=\"_parent\"><img src=\"https://colab.research.google.com/assets/colab-badge.svg\" alt=\"Open In Colab\"/></a>"
      ]
    },
    {
      "cell_type": "markdown",
      "metadata": {
        "id": "lJL6PGuf621A"
      },
      "source": [
        "# **neural network calculator**"
      ]
    },
    {
      "cell_type": "code",
      "metadata": {
        "id": "w4MmkWvSok0U"
      },
      "source": [
        "import torch\n",
        "import torch.nn as nn\n",
        "import torch.nn.functional as F\n",
        "from torch.utils.data import DataLoader,TensorDataset\n",
        "import numpy as np\n",
        "import matplotlib.pyplot as plt\n",
        "from sklearn.model_selection import train_test_split\n",
        "from sklearn.metrics import confusion_matrix, classification_report\n",
        "from IPython import display\n",
        "display.set_matplotlib_formats('svg')"
      ],
      "execution_count": 954,
      "outputs": []
    },
    {
      "cell_type": "markdown",
      "metadata": {
        "id": "EVC-aPGI68TC"
      },
      "source": [
        "# creat data sets"
      ]
    },
    {
      "cell_type": "code",
      "metadata": {
        "colab": {
          "base_uri": "https://localhost:8080/"
        },
        "id": "VVEsqLuBpBC7",
        "outputId": "b4de0220-9ffa-4a75-ae8a-59e7f91cfa8c"
      },
      "source": [
        "data = np.random.randint(-20,21,(50,2))\n",
        "data"
      ],
      "execution_count": 955,
      "outputs": [
        {
          "output_type": "execute_result",
          "data": {
            "text/plain": [
              "array([[ -8,  -3],\n",
              "       [  2,   2],\n",
              "       [ -2,  19],\n",
              "       [  2,  -3],\n",
              "       [ 17,   7],\n",
              "       [-12, -17],\n",
              "       [-15, -18],\n",
              "       [ 18,  -7],\n",
              "       [  6,   3],\n",
              "       [-14,   8],\n",
              "       [ -4,   7],\n",
              "       [ 17,  -9],\n",
              "       [-14,   4],\n",
              "       [  2,  -4],\n",
              "       [ -8, -11],\n",
              "       [  1, -14],\n",
              "       [-14,   9],\n",
              "       [ 10,   8],\n",
              "       [ -9,  -9],\n",
              "       [ 10,  -3],\n",
              "       [  8,   9],\n",
              "       [ 12, -20],\n",
              "       [ 11,  -7],\n",
              "       [ 14, -10],\n",
              "       [ 20,   8],\n",
              "       [ -7,   8],\n",
              "       [-18,  -3],\n",
              "       [ -9,   7],\n",
              "       [  3,  15],\n",
              "       [ -5,   7],\n",
              "       [ 15,  20],\n",
              "       [-15,   0],\n",
              "       [ 12,  17],\n",
              "       [ 11, -11],\n",
              "       [-11,  18],\n",
              "       [ 10, -15],\n",
              "       [-17,   3],\n",
              "       [ -1,  -1],\n",
              "       [ -1,   0],\n",
              "       [ 20,  -5],\n",
              "       [-14,   3],\n",
              "       [  6,   6],\n",
              "       [-20, -15],\n",
              "       [-18,   8],\n",
              "       [  6,  -9],\n",
              "       [ -8,  -6],\n",
              "       [  4,  20],\n",
              "       [ 12,  18],\n",
              "       [ -2, -20],\n",
              "       [ -9, -20]])"
            ]
          },
          "metadata": {},
          "execution_count": 955
        }
      ]
    },
    {
      "cell_type": "code",
      "metadata": {
        "colab": {
          "base_uri": "https://localhost:8080/"
        },
        "id": "Ln8E4CQNpYnR",
        "outputId": "1d102c38-1f67-4b83-e421-384452b63632"
      },
      "source": [
        "z = np.sum(data, axis =1)\n",
        "z = z[:,None]\n",
        "z"
      ],
      "execution_count": 956,
      "outputs": [
        {
          "output_type": "execute_result",
          "data": {
            "text/plain": [
              "array([[-11],\n",
              "       [  4],\n",
              "       [ 17],\n",
              "       [ -1],\n",
              "       [ 24],\n",
              "       [-29],\n",
              "       [-33],\n",
              "       [ 11],\n",
              "       [  9],\n",
              "       [ -6],\n",
              "       [  3],\n",
              "       [  8],\n",
              "       [-10],\n",
              "       [ -2],\n",
              "       [-19],\n",
              "       [-13],\n",
              "       [ -5],\n",
              "       [ 18],\n",
              "       [-18],\n",
              "       [  7],\n",
              "       [ 17],\n",
              "       [ -8],\n",
              "       [  4],\n",
              "       [  4],\n",
              "       [ 28],\n",
              "       [  1],\n",
              "       [-21],\n",
              "       [ -2],\n",
              "       [ 18],\n",
              "       [  2],\n",
              "       [ 35],\n",
              "       [-15],\n",
              "       [ 29],\n",
              "       [  0],\n",
              "       [  7],\n",
              "       [ -5],\n",
              "       [-14],\n",
              "       [ -2],\n",
              "       [ -1],\n",
              "       [ 15],\n",
              "       [-11],\n",
              "       [ 12],\n",
              "       [-35],\n",
              "       [-10],\n",
              "       [ -3],\n",
              "       [-14],\n",
              "       [ 24],\n",
              "       [ 30],\n",
              "       [-22],\n",
              "       [-29]])"
            ]
          },
          "metadata": {},
          "execution_count": 956
        }
      ]
    },
    {
      "cell_type": "code",
      "metadata": {
        "id": "OciaALhLqdCr"
      },
      "source": [
        "dataT = torch.FloatTensor(data)"
      ],
      "execution_count": 957,
      "outputs": []
    },
    {
      "cell_type": "code",
      "metadata": {
        "id": "ViXOfduRq78M"
      },
      "source": [
        "zT=torch.FloatTensor(z)"
      ],
      "execution_count": 958,
      "outputs": []
    },
    {
      "cell_type": "markdown",
      "metadata": {
        "id": "WY1MXCJO7JDo"
      },
      "source": [
        "# create dataloader objects"
      ]
    },
    {
      "cell_type": "code",
      "metadata": {
        "id": "lomKtr-JrKcD"
      },
      "source": [
        "train_data,test_data,train_labels,test_labels = train_test_split(dataT,zT,test_size=0.2)\n",
        "\n",
        "train_sets = TensorDataset(train_data,train_labels)\n",
        "test_sets = TensorDataset(test_data,test_labels)\n",
        "\n",
        "batchsize = 32\n",
        "train_loader = DataLoader(train_sets, batch_size=batchsize, shuffle=True, drop_last=True)\n",
        "test_loader = DataLoader(test_sets, batch_size=test_sets.tensors[0].shape[0])"
      ],
      "execution_count": 959,
      "outputs": []
    },
    {
      "cell_type": "markdown",
      "metadata": {
        "id": "0cy9U-jurumn"
      },
      "source": [
        "# creat model"
      ]
    },
    {
      "cell_type": "code",
      "metadata": {
        "id": "cajbRnuQ5nL3"
      },
      "source": [
        "def CreatModel():\n",
        "\n",
        "  ANNcal = nn.Sequential(\n",
        "              nn.Linear(2,128),\n",
        "              nn.ReLU(),\n",
        "              nn.Linear(128,256),\n",
        "              nn.ReLU(),\n",
        "              nn.Linear(256,256),\n",
        "              nn.ReLU(),\n",
        "              nn.Linear(256,1) \n",
        "                        )\n",
        "\n",
        "  lossfun = nn.MSELoss()\n",
        "\n",
        "  optimizer = torch.optim.Adam(params=ANNcal.parameters(), lr=0.001)\n",
        "\n",
        "  return ANNcal, lossfun, optimizer"
      ],
      "execution_count": 960,
      "outputs": []
    },
    {
      "cell_type": "markdown",
      "metadata": {
        "id": "9p9diGD2BLQh"
      },
      "source": [
        "## test the created model:"
      ]
    },
    {
      "cell_type": "code",
      "metadata": {
        "colab": {
          "base_uri": "https://localhost:8080/"
        },
        "id": "fLK70IONAlJl",
        "outputId": "cbaa834a-c6a9-4303-82e0-e1ca1ce7536f"
      },
      "source": [
        "ANNcal, lossfun, optimizer = CreatModel()\n",
        "d = torch.FloatTensor(np.random.randint(-20,21,(3,2)))\n",
        "\n",
        "l = torch.sum(d,axis=1)\n",
        "l = l[:,None]\n",
        "# print(d)\n",
        "print('data is: \\n', d)\n",
        "print('label is: \\n', l)\n",
        "print(l.shape)\n",
        "yhat = ANNcal(d)\n",
        "print('yhat is: ',yhat)\n",
        "print(nn.MSELoss()(yhat,l))#.detach().item()\n",
        "# print('yhat is: \\n', yhat)\n",
        "np.corrcoef(l.T,yhat.detach().T)[0,1]"
      ],
      "execution_count": 961,
      "outputs": [
        {
          "output_type": "stream",
          "name": "stdout",
          "text": [
            "data is: \n",
            " tensor([[ 5., 14.],\n",
            "        [15., 12.],\n",
            "        [16.,  4.]])\n",
            "label is: \n",
            " tensor([[19.],\n",
            "        [27.],\n",
            "        [20.]])\n",
            "torch.Size([3, 1])\n",
            "yhat is:  tensor([[-0.7696],\n",
            "        [-0.4156],\n",
            "        [-0.1066]], grad_fn=<AddmmBackward0>)\n",
            "tensor(515.5753, grad_fn=<MseLossBackward0>)\n"
          ]
        },
        {
          "output_type": "execute_result",
          "data": {
            "text/plain": [
              "0.1533739975037033"
            ]
          },
          "metadata": {},
          "execution_count": 961
        }
      ]
    },
    {
      "cell_type": "markdown",
      "metadata": {
        "id": "if94WGYbr1W6"
      },
      "source": [
        ""
      ]
    },
    {
      "cell_type": "code",
      "metadata": {
        "id": "Ww8PX7FH6ysE"
      },
      "source": [
        ""
      ],
      "execution_count": 961,
      "outputs": []
    },
    {
      "cell_type": "markdown",
      "metadata": {
        "id": "QMfcEtQLsRAZ"
      },
      "source": [
        "# Train Model"
      ]
    },
    {
      "cell_type": "code",
      "metadata": {
        "id": "jGuSFMNI6yns"
      },
      "source": [
        "epochs = 100\n",
        "def TrainModel():\n",
        "\n",
        "  ANNcal, lossfun, optimizer = CreatModel()\n",
        "  trainAcc = []\n",
        "  testAcc = []\n",
        "  losses = []\n",
        "\n",
        "  for i in range(epochs):\n",
        "\n",
        "    batchAcc = []\n",
        "    batchLoss = []\n",
        "\n",
        "    for X,y in train_loader:\n",
        "      \n",
        "      yhat = ANNcal(X)\n",
        "\n",
        "      \n",
        "      loss = lossfun(yhat,y)\n",
        "\n",
        "      batchLoss.append(loss.detach().item())\n",
        "\n",
        "      optimizer.zero_grad()\n",
        "      loss.backward()\n",
        "      optimizer.step()\n",
        "\n",
        "      ypred = torch.round(yhat.detach())\n",
        "      \n",
        "      batchAcc.append(np.mean((ypred == y).float().tolist())*100)\n",
        "\n",
        "    \n",
        "    losses.append(np.mean(batchLoss))\n",
        "    trainAcc.append(np.mean(batchAcc))\n",
        "\n",
        "    X,y = next(iter(test_loader))\n",
        "    yhat = ANNcal(X)\n",
        "    ypred = torch.round(yhat.detach())\n",
        "    testAcc.append(np.mean((ypred == y).float().tolist())*100)\n",
        "\n",
        "  \n",
        "\n",
        "  return ANNcal, trainAcc, testAcc, losses \n"
      ],
      "execution_count": 962,
      "outputs": []
    },
    {
      "cell_type": "code",
      "metadata": {
        "id": "CvYbZeOE6ylO"
      },
      "source": [
        "ANNcal, trainAcc, testAcc, losses  = TrainModel()"
      ],
      "execution_count": 963,
      "outputs": []
    },
    {
      "cell_type": "code",
      "metadata": {
        "id": "lmtFa4mnvLOP"
      },
      "source": [
        "predictions = ANNcal(test_data)"
      ],
      "execution_count": 964,
      "outputs": []
    },
    {
      "cell_type": "code",
      "metadata": {
        "colab": {
          "base_uri": "https://localhost:8080/"
        },
        "id": "4DVPxP5RvLD8",
        "outputId": "27e37ea0-c0bf-4a66-da91-352341cd666a"
      },
      "source": [
        "torch.round(predictions.squeeze().detach()[:10])"
      ],
      "execution_count": 965,
      "outputs": [
        {
          "output_type": "execute_result",
          "data": {
            "text/plain": [
              "tensor([-11.,   9.,   7., -33.,   4., -10.,  -5.,  -1.,   4.,  24.])"
            ]
          },
          "metadata": {},
          "execution_count": 965
        }
      ]
    },
    {
      "cell_type": "code",
      "metadata": {
        "colab": {
          "base_uri": "https://localhost:8080/"
        },
        "id": "zwpdbBiZvaMr",
        "outputId": "1985f011-5a29-47fa-c183-49a920a1f272"
      },
      "source": [
        "test_labels.squeeze()[:10]"
      ],
      "execution_count": 966,
      "outputs": [
        {
          "output_type": "execute_result",
          "data": {
            "text/plain": [
              "tensor([-11.,   9.,   7., -33.,   4., -10.,  -5.,  -1.,   4.,  24.])"
            ]
          },
          "metadata": {},
          "execution_count": 966
        }
      ]
    },
    {
      "cell_type": "code",
      "metadata": {
        "id": "Y0O4AgNm6ygz",
        "colab": {
          "base_uri": "https://localhost:8080/",
          "height": 391
        },
        "outputId": "faf066cd-5ec0-4580-bcc7-18cd4a071c23"
      },
      "source": [
        "fig,ax = plt.subplots(1,2,figsize=(12,4))\n",
        "\n",
        "ax[0].plot(losses,'o-',markerfacecolor='w',linewidth=1)\n",
        "ax[0].set_xlabel('Epoch')\n",
        "ax[0].set_title('Loss')\n",
        "\n",
        "ax[1].plot(range(epochs),trainAcc,'bo-',label='train data')\n",
        "ax[1].plot(range(epochs),testAcc,'rs-',label='test data')\n",
        "ax[1].set_xlabel('x')\n",
        "ax[1].set_ylabel('y')\n",
        "ax[1].set_title('test and train accuracy')\n",
        "ax[1].legend()\n",
        "\n",
        "plt.show()"
      ],
      "execution_count": 967,
      "outputs": [
        {
          "output_type": "display_data",
          "data": {
            "text/plain": [
              "<Figure size 864x288 with 2 Axes>"
            ],
            "image/svg+xml": "<?xml version=\"1.0\" encoding=\"utf-8\" standalone=\"no\"?>\n<!DOCTYPE svg PUBLIC \"-//W3C//DTD SVG 1.1//EN\"\n  \"http://www.w3.org/Graphics/SVG/1.1/DTD/svg11.dtd\">\n<!-- Created with matplotlib (https://matplotlib.org/) -->\n<svg height=\"277.314375pt\" version=\"1.1\" viewBox=\"0 0 710.0875 277.314375\" width=\"710.0875pt\" xmlns=\"http://www.w3.org/2000/svg\" xmlns:xlink=\"http://www.w3.org/1999/xlink\">\n <defs>\n  <style type=\"text/css\">\n*{stroke-linecap:butt;stroke-linejoin:round;}\n  </style>\n </defs>\n <g id=\"figure_1\">\n  <g id=\"patch_1\">\n   <path d=\"M 0 277.314375 \nL 710.0875 277.314375 \nL 710.0875 0 \nL 0 0 \nz\n\" style=\"fill:none;\"/>\n  </g>\n  <g id=\"axes_1\">\n   <g id=\"patch_2\">\n    <path d=\"M 33.2875 239.758125 \nL 337.651136 239.758125 \nL 337.651136 22.318125 \nL 33.2875 22.318125 \nz\n\" style=\"fill:#ffffff;\"/>\n   </g>\n   <g id=\"matplotlib.axis_1\">\n    <g id=\"xtick_1\">\n     <g id=\"line2d_1\">\n      <defs>\n       <path d=\"M 0 0 \nL 0 3.5 \n\" id=\"m3ee4cf1429\" style=\"stroke:#000000;stroke-width:0.8;\"/>\n      </defs>\n      <g>\n       <use style=\"stroke:#000000;stroke-width:0.8;\" x=\"47.122211\" xlink:href=\"#m3ee4cf1429\" y=\"239.758125\"/>\n      </g>\n     </g>\n     <g id=\"text_1\">\n      <!-- 0 -->\n      <defs>\n       <path d=\"M 31.78125 66.40625 \nQ 24.171875 66.40625 20.328125 58.90625 \nQ 16.5 51.421875 16.5 36.375 \nQ 16.5 21.390625 20.328125 13.890625 \nQ 24.171875 6.390625 31.78125 6.390625 \nQ 39.453125 6.390625 43.28125 13.890625 \nQ 47.125 21.390625 47.125 36.375 \nQ 47.125 51.421875 43.28125 58.90625 \nQ 39.453125 66.40625 31.78125 66.40625 \nz\nM 31.78125 74.21875 \nQ 44.046875 74.21875 50.515625 64.515625 \nQ 56.984375 54.828125 56.984375 36.375 \nQ 56.984375 17.96875 50.515625 8.265625 \nQ 44.046875 -1.421875 31.78125 -1.421875 \nQ 19.53125 -1.421875 13.0625 8.265625 \nQ 6.59375 17.96875 6.59375 36.375 \nQ 6.59375 54.828125 13.0625 64.515625 \nQ 19.53125 74.21875 31.78125 74.21875 \nz\n\" id=\"DejaVuSans-48\"/>\n      </defs>\n      <g transform=\"translate(43.940961 254.356562)scale(0.1 -0.1)\">\n       <use xlink:href=\"#DejaVuSans-48\"/>\n      </g>\n     </g>\n    </g>\n    <g id=\"xtick_2\">\n     <g id=\"line2d_2\">\n      <g>\n       <use style=\"stroke:#000000;stroke-width:0.8;\" x=\"103.020032\" xlink:href=\"#m3ee4cf1429\" y=\"239.758125\"/>\n      </g>\n     </g>\n     <g id=\"text_2\">\n      <!-- 20 -->\n      <defs>\n       <path d=\"M 19.1875 8.296875 \nL 53.609375 8.296875 \nL 53.609375 0 \nL 7.328125 0 \nL 7.328125 8.296875 \nQ 12.9375 14.109375 22.625 23.890625 \nQ 32.328125 33.6875 34.8125 36.53125 \nQ 39.546875 41.84375 41.421875 45.53125 \nQ 43.3125 49.21875 43.3125 52.78125 \nQ 43.3125 58.59375 39.234375 62.25 \nQ 35.15625 65.921875 28.609375 65.921875 \nQ 23.96875 65.921875 18.8125 64.3125 \nQ 13.671875 62.703125 7.8125 59.421875 \nL 7.8125 69.390625 \nQ 13.765625 71.78125 18.9375 73 \nQ 24.125 74.21875 28.421875 74.21875 \nQ 39.75 74.21875 46.484375 68.546875 \nQ 53.21875 62.890625 53.21875 53.421875 \nQ 53.21875 48.921875 51.53125 44.890625 \nQ 49.859375 40.875 45.40625 35.40625 \nQ 44.1875 33.984375 37.640625 27.21875 \nQ 31.109375 20.453125 19.1875 8.296875 \nz\n\" id=\"DejaVuSans-50\"/>\n      </defs>\n      <g transform=\"translate(96.657532 254.356562)scale(0.1 -0.1)\">\n       <use xlink:href=\"#DejaVuSans-50\"/>\n       <use x=\"63.623047\" xlink:href=\"#DejaVuSans-48\"/>\n      </g>\n     </g>\n    </g>\n    <g id=\"xtick_3\">\n     <g id=\"line2d_3\">\n      <g>\n       <use style=\"stroke:#000000;stroke-width:0.8;\" x=\"158.917853\" xlink:href=\"#m3ee4cf1429\" y=\"239.758125\"/>\n      </g>\n     </g>\n     <g id=\"text_3\">\n      <!-- 40 -->\n      <defs>\n       <path d=\"M 37.796875 64.3125 \nL 12.890625 25.390625 \nL 37.796875 25.390625 \nz\nM 35.203125 72.90625 \nL 47.609375 72.90625 \nL 47.609375 25.390625 \nL 58.015625 25.390625 \nL 58.015625 17.1875 \nL 47.609375 17.1875 \nL 47.609375 0 \nL 37.796875 0 \nL 37.796875 17.1875 \nL 4.890625 17.1875 \nL 4.890625 26.703125 \nz\n\" id=\"DejaVuSans-52\"/>\n      </defs>\n      <g transform=\"translate(152.555353 254.356562)scale(0.1 -0.1)\">\n       <use xlink:href=\"#DejaVuSans-52\"/>\n       <use x=\"63.623047\" xlink:href=\"#DejaVuSans-48\"/>\n      </g>\n     </g>\n    </g>\n    <g id=\"xtick_4\">\n     <g id=\"line2d_4\">\n      <g>\n       <use style=\"stroke:#000000;stroke-width:0.8;\" x=\"214.815674\" xlink:href=\"#m3ee4cf1429\" y=\"239.758125\"/>\n      </g>\n     </g>\n     <g id=\"text_4\">\n      <!-- 60 -->\n      <defs>\n       <path d=\"M 33.015625 40.375 \nQ 26.375 40.375 22.484375 35.828125 \nQ 18.609375 31.296875 18.609375 23.390625 \nQ 18.609375 15.53125 22.484375 10.953125 \nQ 26.375 6.390625 33.015625 6.390625 \nQ 39.65625 6.390625 43.53125 10.953125 \nQ 47.40625 15.53125 47.40625 23.390625 \nQ 47.40625 31.296875 43.53125 35.828125 \nQ 39.65625 40.375 33.015625 40.375 \nz\nM 52.59375 71.296875 \nL 52.59375 62.3125 \nQ 48.875 64.0625 45.09375 64.984375 \nQ 41.3125 65.921875 37.59375 65.921875 \nQ 27.828125 65.921875 22.671875 59.328125 \nQ 17.53125 52.734375 16.796875 39.40625 \nQ 19.671875 43.65625 24.015625 45.921875 \nQ 28.375 48.1875 33.59375 48.1875 \nQ 44.578125 48.1875 50.953125 41.515625 \nQ 57.328125 34.859375 57.328125 23.390625 \nQ 57.328125 12.15625 50.6875 5.359375 \nQ 44.046875 -1.421875 33.015625 -1.421875 \nQ 20.359375 -1.421875 13.671875 8.265625 \nQ 6.984375 17.96875 6.984375 36.375 \nQ 6.984375 53.65625 15.1875 63.9375 \nQ 23.390625 74.21875 37.203125 74.21875 \nQ 40.921875 74.21875 44.703125 73.484375 \nQ 48.484375 72.75 52.59375 71.296875 \nz\n\" id=\"DejaVuSans-54\"/>\n      </defs>\n      <g transform=\"translate(208.453174 254.356562)scale(0.1 -0.1)\">\n       <use xlink:href=\"#DejaVuSans-54\"/>\n       <use x=\"63.623047\" xlink:href=\"#DejaVuSans-48\"/>\n      </g>\n     </g>\n    </g>\n    <g id=\"xtick_5\">\n     <g id=\"line2d_5\">\n      <g>\n       <use style=\"stroke:#000000;stroke-width:0.8;\" x=\"270.713495\" xlink:href=\"#m3ee4cf1429\" y=\"239.758125\"/>\n      </g>\n     </g>\n     <g id=\"text_5\">\n      <!-- 80 -->\n      <defs>\n       <path d=\"M 31.78125 34.625 \nQ 24.75 34.625 20.71875 30.859375 \nQ 16.703125 27.09375 16.703125 20.515625 \nQ 16.703125 13.921875 20.71875 10.15625 \nQ 24.75 6.390625 31.78125 6.390625 \nQ 38.8125 6.390625 42.859375 10.171875 \nQ 46.921875 13.96875 46.921875 20.515625 \nQ 46.921875 27.09375 42.890625 30.859375 \nQ 38.875 34.625 31.78125 34.625 \nz\nM 21.921875 38.8125 \nQ 15.578125 40.375 12.03125 44.71875 \nQ 8.5 49.078125 8.5 55.328125 \nQ 8.5 64.0625 14.71875 69.140625 \nQ 20.953125 74.21875 31.78125 74.21875 \nQ 42.671875 74.21875 48.875 69.140625 \nQ 55.078125 64.0625 55.078125 55.328125 \nQ 55.078125 49.078125 51.53125 44.71875 \nQ 48 40.375 41.703125 38.8125 \nQ 48.828125 37.15625 52.796875 32.3125 \nQ 56.78125 27.484375 56.78125 20.515625 \nQ 56.78125 9.90625 50.3125 4.234375 \nQ 43.84375 -1.421875 31.78125 -1.421875 \nQ 19.734375 -1.421875 13.25 4.234375 \nQ 6.78125 9.90625 6.78125 20.515625 \nQ 6.78125 27.484375 10.78125 32.3125 \nQ 14.796875 37.15625 21.921875 38.8125 \nz\nM 18.3125 54.390625 \nQ 18.3125 48.734375 21.84375 45.5625 \nQ 25.390625 42.390625 31.78125 42.390625 \nQ 38.140625 42.390625 41.71875 45.5625 \nQ 45.3125 48.734375 45.3125 54.390625 \nQ 45.3125 60.0625 41.71875 63.234375 \nQ 38.140625 66.40625 31.78125 66.40625 \nQ 25.390625 66.40625 21.84375 63.234375 \nQ 18.3125 60.0625 18.3125 54.390625 \nz\n\" id=\"DejaVuSans-56\"/>\n      </defs>\n      <g transform=\"translate(264.350995 254.356562)scale(0.1 -0.1)\">\n       <use xlink:href=\"#DejaVuSans-56\"/>\n       <use x=\"63.623047\" xlink:href=\"#DejaVuSans-48\"/>\n      </g>\n     </g>\n    </g>\n    <g id=\"xtick_6\">\n     <g id=\"line2d_6\">\n      <g>\n       <use style=\"stroke:#000000;stroke-width:0.8;\" x=\"326.611317\" xlink:href=\"#m3ee4cf1429\" y=\"239.758125\"/>\n      </g>\n     </g>\n     <g id=\"text_6\">\n      <!-- 100 -->\n      <defs>\n       <path d=\"M 12.40625 8.296875 \nL 28.515625 8.296875 \nL 28.515625 63.921875 \nL 10.984375 60.40625 \nL 10.984375 69.390625 \nL 28.421875 72.90625 \nL 38.28125 72.90625 \nL 38.28125 8.296875 \nL 54.390625 8.296875 \nL 54.390625 0 \nL 12.40625 0 \nz\n\" id=\"DejaVuSans-49\"/>\n      </defs>\n      <g transform=\"translate(317.067567 254.356562)scale(0.1 -0.1)\">\n       <use xlink:href=\"#DejaVuSans-49\"/>\n       <use x=\"63.623047\" xlink:href=\"#DejaVuSans-48\"/>\n       <use x=\"127.246094\" xlink:href=\"#DejaVuSans-48\"/>\n      </g>\n     </g>\n    </g>\n    <g id=\"text_7\">\n     <!-- Epoch -->\n     <defs>\n      <path d=\"M 9.8125 72.90625 \nL 55.90625 72.90625 \nL 55.90625 64.59375 \nL 19.671875 64.59375 \nL 19.671875 43.015625 \nL 54.390625 43.015625 \nL 54.390625 34.71875 \nL 19.671875 34.71875 \nL 19.671875 8.296875 \nL 56.78125 8.296875 \nL 56.78125 0 \nL 9.8125 0 \nz\n\" id=\"DejaVuSans-69\"/>\n      <path d=\"M 18.109375 8.203125 \nL 18.109375 -20.796875 \nL 9.078125 -20.796875 \nL 9.078125 54.6875 \nL 18.109375 54.6875 \nL 18.109375 46.390625 \nQ 20.953125 51.265625 25.265625 53.625 \nQ 29.59375 56 35.59375 56 \nQ 45.5625 56 51.78125 48.09375 \nQ 58.015625 40.1875 58.015625 27.296875 \nQ 58.015625 14.40625 51.78125 6.484375 \nQ 45.5625 -1.421875 35.59375 -1.421875 \nQ 29.59375 -1.421875 25.265625 0.953125 \nQ 20.953125 3.328125 18.109375 8.203125 \nz\nM 48.6875 27.296875 \nQ 48.6875 37.203125 44.609375 42.84375 \nQ 40.53125 48.484375 33.40625 48.484375 \nQ 26.265625 48.484375 22.1875 42.84375 \nQ 18.109375 37.203125 18.109375 27.296875 \nQ 18.109375 17.390625 22.1875 11.75 \nQ 26.265625 6.109375 33.40625 6.109375 \nQ 40.53125 6.109375 44.609375 11.75 \nQ 48.6875 17.390625 48.6875 27.296875 \nz\n\" id=\"DejaVuSans-112\"/>\n      <path d=\"M 30.609375 48.390625 \nQ 23.390625 48.390625 19.1875 42.75 \nQ 14.984375 37.109375 14.984375 27.296875 \nQ 14.984375 17.484375 19.15625 11.84375 \nQ 23.34375 6.203125 30.609375 6.203125 \nQ 37.796875 6.203125 41.984375 11.859375 \nQ 46.1875 17.53125 46.1875 27.296875 \nQ 46.1875 37.015625 41.984375 42.703125 \nQ 37.796875 48.390625 30.609375 48.390625 \nz\nM 30.609375 56 \nQ 42.328125 56 49.015625 48.375 \nQ 55.71875 40.765625 55.71875 27.296875 \nQ 55.71875 13.875 49.015625 6.21875 \nQ 42.328125 -1.421875 30.609375 -1.421875 \nQ 18.84375 -1.421875 12.171875 6.21875 \nQ 5.515625 13.875 5.515625 27.296875 \nQ 5.515625 40.765625 12.171875 48.375 \nQ 18.84375 56 30.609375 56 \nz\n\" id=\"DejaVuSans-111\"/>\n      <path d=\"M 48.78125 52.59375 \nL 48.78125 44.1875 \nQ 44.96875 46.296875 41.140625 47.34375 \nQ 37.3125 48.390625 33.40625 48.390625 \nQ 24.65625 48.390625 19.8125 42.84375 \nQ 14.984375 37.3125 14.984375 27.296875 \nQ 14.984375 17.28125 19.8125 11.734375 \nQ 24.65625 6.203125 33.40625 6.203125 \nQ 37.3125 6.203125 41.140625 7.25 \nQ 44.96875 8.296875 48.78125 10.40625 \nL 48.78125 2.09375 \nQ 45.015625 0.34375 40.984375 -0.53125 \nQ 36.96875 -1.421875 32.421875 -1.421875 \nQ 20.0625 -1.421875 12.78125 6.34375 \nQ 5.515625 14.109375 5.515625 27.296875 \nQ 5.515625 40.671875 12.859375 48.328125 \nQ 20.21875 56 33.015625 56 \nQ 37.15625 56 41.109375 55.140625 \nQ 45.0625 54.296875 48.78125 52.59375 \nz\n\" id=\"DejaVuSans-99\"/>\n      <path d=\"M 54.890625 33.015625 \nL 54.890625 0 \nL 45.90625 0 \nL 45.90625 32.71875 \nQ 45.90625 40.484375 42.875 44.328125 \nQ 39.84375 48.1875 33.796875 48.1875 \nQ 26.515625 48.1875 22.3125 43.546875 \nQ 18.109375 38.921875 18.109375 30.90625 \nL 18.109375 0 \nL 9.078125 0 \nL 9.078125 75.984375 \nL 18.109375 75.984375 \nL 18.109375 46.1875 \nQ 21.34375 51.125 25.703125 53.5625 \nQ 30.078125 56 35.796875 56 \nQ 45.21875 56 50.046875 50.171875 \nQ 54.890625 44.34375 54.890625 33.015625 \nz\n\" id=\"DejaVuSans-104\"/>\n     </defs>\n     <g transform=\"translate(170.158381 268.034687)scale(0.1 -0.1)\">\n      <use xlink:href=\"#DejaVuSans-69\"/>\n      <use x=\"63.183594\" xlink:href=\"#DejaVuSans-112\"/>\n      <use x=\"126.660156\" xlink:href=\"#DejaVuSans-111\"/>\n      <use x=\"187.841797\" xlink:href=\"#DejaVuSans-99\"/>\n      <use x=\"242.822266\" xlink:href=\"#DejaVuSans-104\"/>\n     </g>\n    </g>\n   </g>\n   <g id=\"matplotlib.axis_2\">\n    <g id=\"ytick_1\">\n     <g id=\"line2d_7\">\n      <defs>\n       <path d=\"M 0 0 \nL -3.5 0 \n\" id=\"m0ec12e40a3\" style=\"stroke:#000000;stroke-width:0.8;\"/>\n      </defs>\n      <g>\n       <use style=\"stroke:#000000;stroke-width:0.8;\" x=\"33.2875\" xlink:href=\"#m0ec12e40a3\" y=\"229.87756\"/>\n      </g>\n     </g>\n     <g id=\"text_8\">\n      <!-- 0 -->\n      <g transform=\"translate(19.925 233.676779)scale(0.1 -0.1)\">\n       <use xlink:href=\"#DejaVuSans-48\"/>\n      </g>\n     </g>\n    </g>\n    <g id=\"ytick_2\">\n     <g id=\"line2d_8\">\n      <g>\n       <use style=\"stroke:#000000;stroke-width:0.8;\" x=\"33.2875\" xlink:href=\"#m0ec12e40a3\" y=\"193.418344\"/>\n      </g>\n     </g>\n     <g id=\"text_9\">\n      <!-- 50 -->\n      <defs>\n       <path d=\"M 10.796875 72.90625 \nL 49.515625 72.90625 \nL 49.515625 64.59375 \nL 19.828125 64.59375 \nL 19.828125 46.734375 \nQ 21.96875 47.46875 24.109375 47.828125 \nQ 26.265625 48.1875 28.421875 48.1875 \nQ 40.625 48.1875 47.75 41.5 \nQ 54.890625 34.8125 54.890625 23.390625 \nQ 54.890625 11.625 47.5625 5.09375 \nQ 40.234375 -1.421875 26.90625 -1.421875 \nQ 22.3125 -1.421875 17.546875 -0.640625 \nQ 12.796875 0.140625 7.71875 1.703125 \nL 7.71875 11.625 \nQ 12.109375 9.234375 16.796875 8.0625 \nQ 21.484375 6.890625 26.703125 6.890625 \nQ 35.15625 6.890625 40.078125 11.328125 \nQ 45.015625 15.765625 45.015625 23.390625 \nQ 45.015625 31 40.078125 35.4375 \nQ 35.15625 39.890625 26.703125 39.890625 \nQ 22.75 39.890625 18.8125 39.015625 \nQ 14.890625 38.140625 10.796875 36.28125 \nz\n\" id=\"DejaVuSans-53\"/>\n      </defs>\n      <g transform=\"translate(13.5625 197.217563)scale(0.1 -0.1)\">\n       <use xlink:href=\"#DejaVuSans-53\"/>\n       <use x=\"63.623047\" xlink:href=\"#DejaVuSans-48\"/>\n      </g>\n     </g>\n    </g>\n    <g id=\"ytick_3\">\n     <g id=\"line2d_9\">\n      <g>\n       <use style=\"stroke:#000000;stroke-width:0.8;\" x=\"33.2875\" xlink:href=\"#m0ec12e40a3\" y=\"156.959128\"/>\n      </g>\n     </g>\n     <g id=\"text_10\">\n      <!-- 100 -->\n      <g transform=\"translate(7.2 160.758347)scale(0.1 -0.1)\">\n       <use xlink:href=\"#DejaVuSans-49\"/>\n       <use x=\"63.623047\" xlink:href=\"#DejaVuSans-48\"/>\n       <use x=\"127.246094\" xlink:href=\"#DejaVuSans-48\"/>\n      </g>\n     </g>\n    </g>\n    <g id=\"ytick_4\">\n     <g id=\"line2d_10\">\n      <g>\n       <use style=\"stroke:#000000;stroke-width:0.8;\" x=\"33.2875\" xlink:href=\"#m0ec12e40a3\" y=\"120.499912\"/>\n      </g>\n     </g>\n     <g id=\"text_11\">\n      <!-- 150 -->\n      <g transform=\"translate(7.2 124.299131)scale(0.1 -0.1)\">\n       <use xlink:href=\"#DejaVuSans-49\"/>\n       <use x=\"63.623047\" xlink:href=\"#DejaVuSans-53\"/>\n       <use x=\"127.246094\" xlink:href=\"#DejaVuSans-48\"/>\n      </g>\n     </g>\n    </g>\n    <g id=\"ytick_5\">\n     <g id=\"line2d_11\">\n      <g>\n       <use style=\"stroke:#000000;stroke-width:0.8;\" x=\"33.2875\" xlink:href=\"#m0ec12e40a3\" y=\"84.040696\"/>\n      </g>\n     </g>\n     <g id=\"text_12\">\n      <!-- 200 -->\n      <g transform=\"translate(7.2 87.839915)scale(0.1 -0.1)\">\n       <use xlink:href=\"#DejaVuSans-50\"/>\n       <use x=\"63.623047\" xlink:href=\"#DejaVuSans-48\"/>\n       <use x=\"127.246094\" xlink:href=\"#DejaVuSans-48\"/>\n      </g>\n     </g>\n    </g>\n    <g id=\"ytick_6\">\n     <g id=\"line2d_12\">\n      <g>\n       <use style=\"stroke:#000000;stroke-width:0.8;\" x=\"33.2875\" xlink:href=\"#m0ec12e40a3\" y=\"47.58148\"/>\n      </g>\n     </g>\n     <g id=\"text_13\">\n      <!-- 250 -->\n      <g transform=\"translate(7.2 51.380699)scale(0.1 -0.1)\">\n       <use xlink:href=\"#DejaVuSans-50\"/>\n       <use x=\"63.623047\" xlink:href=\"#DejaVuSans-53\"/>\n       <use x=\"127.246094\" xlink:href=\"#DejaVuSans-48\"/>\n      </g>\n     </g>\n    </g>\n   </g>\n   <g id=\"line2d_13\">\n    <path clip-path=\"url(#p6dc9456d0b)\" d=\"M 47.122211 41.430211 \nL 49.917102 32.201761 \nL 52.711993 45.554793 \nL 55.506884 87.764903 \nL 58.301775 105.756394 \nL 61.096666 151.982386 \nL 63.891557 182.148026 \nL 66.686448 190.786149 \nL 69.481339 214.81972 \nL 72.27623 222.186702 \nL 75.071121 225.557887 \nL 77.866012 216.382596 \nL 80.660903 205.399149 \nL 83.455795 202.423463 \nL 86.250686 205.646042 \nL 89.045577 211.661886 \nL 91.840468 221.371432 \nL 94.635359 227.126971 \nL 97.43025 228.960387 \nL 100.225141 227.957312 \nL 103.020032 226.189981 \nL 105.814923 222.965283 \nL 108.609814 222.46148 \nL 111.404705 222.163891 \nL 114.199596 223.689895 \nL 116.994487 224.309295 \nL 119.789378 226.664715 \nL 122.584269 228.602958 \nL 125.37916 229.46961 \nL 128.174051 229.515473 \nL 130.968943 229.023403 \nL 133.763834 228.373509 \nL 136.558725 227.938316 \nL 139.353616 227.555157 \nL 142.148507 227.885715 \nL 144.943398 228.379602 \nL 147.738289 228.704205 \nL 150.53318 229.198337 \nL 153.328071 229.681844 \nL 156.122962 229.806216 \nL 158.917853 229.633046 \nL 161.712744 229.443113 \nL 164.507635 229.054141 \nL 167.302526 229.018789 \nL 170.097417 229.182133 \nL 172.892308 229.315838 \nL 175.687199 229.500147 \nL 178.482091 229.669579 \nL 181.276982 229.812136 \nL 184.071873 229.844075 \nL 186.866764 229.794062 \nL 189.661655 229.69229 \nL 192.456546 229.614946 \nL 195.251437 229.594258 \nL 198.046328 229.64499 \nL 200.841219 229.701686 \nL 203.63611 229.796844 \nL 206.431001 229.849001 \nL 209.225892 229.855766 \nL 212.020783 229.84366 \nL 214.815674 229.815923 \nL 217.610565 229.783085 \nL 220.405456 229.768204 \nL 223.200347 229.767496 \nL 225.995239 229.810724 \nL 228.79013 229.831857 \nL 231.585021 229.856402 \nL 234.379912 229.868041 \nL 237.174803 229.861404 \nL 239.969694 229.851122 \nL 242.764585 229.837757 \nL 245.559476 229.835407 \nL 248.354367 229.836217 \nL 251.149258 229.855186 \nL 253.944149 229.859127 \nL 256.73904 229.86541 \nL 259.533931 229.866979 \nL 262.328822 229.864318 \nL 265.123713 229.862583 \nL 267.918604 229.85536 \nL 270.713495 229.852037 \nL 273.508387 229.863323 \nL 276.303278 229.865012 \nL 279.098169 229.871009 \nL 281.89306 229.872931 \nL 284.687951 229.870192 \nL 287.482842 229.867344 \nL 290.277733 229.866615 \nL 293.072624 229.868998 \nL 295.867515 229.866713 \nL 298.662406 229.869615 \nL 301.457297 229.86902 \nL 304.252188 229.874489 \nL 307.047079 229.872197 \nL 309.84197 229.872523 \nL 312.636861 229.8713 \nL 315.431752 229.869055 \nL 318.226644 229.872316 \nL 321.021535 229.870806 \nL 323.816426 229.871339 \n\" style=\"fill:none;stroke:#1f77b4;stroke-linecap:square;\"/>\n    <defs>\n     <path d=\"M 0 3 \nC 0.795609 3 1.55874 2.683901 2.12132 2.12132 \nC 2.683901 1.55874 3 0.795609 3 0 \nC 3 -0.795609 2.683901 -1.55874 2.12132 -2.12132 \nC 1.55874 -2.683901 0.795609 -3 0 -3 \nC -0.795609 -3 -1.55874 -2.683901 -2.12132 -2.12132 \nC -2.683901 -1.55874 -3 -0.795609 -3 0 \nC -3 0.795609 -2.683901 1.55874 -2.12132 2.12132 \nC -1.55874 2.683901 -0.795609 3 0 3 \nz\n\" id=\"m961404b92a\" style=\"stroke:#1f77b4;\"/>\n    </defs>\n    <g clip-path=\"url(#p6dc9456d0b)\">\n     <use style=\"fill:#ffffff;stroke:#1f77b4;\" x=\"47.122211\" xlink:href=\"#m961404b92a\" y=\"41.430211\"/>\n     <use style=\"fill:#ffffff;stroke:#1f77b4;\" x=\"49.917102\" xlink:href=\"#m961404b92a\" y=\"32.201761\"/>\n     <use style=\"fill:#ffffff;stroke:#1f77b4;\" x=\"52.711993\" xlink:href=\"#m961404b92a\" y=\"45.554793\"/>\n     <use style=\"fill:#ffffff;stroke:#1f77b4;\" x=\"55.506884\" xlink:href=\"#m961404b92a\" y=\"87.764903\"/>\n     <use style=\"fill:#ffffff;stroke:#1f77b4;\" x=\"58.301775\" xlink:href=\"#m961404b92a\" y=\"105.756394\"/>\n     <use style=\"fill:#ffffff;stroke:#1f77b4;\" x=\"61.096666\" xlink:href=\"#m961404b92a\" y=\"151.982386\"/>\n     <use style=\"fill:#ffffff;stroke:#1f77b4;\" x=\"63.891557\" xlink:href=\"#m961404b92a\" y=\"182.148026\"/>\n     <use style=\"fill:#ffffff;stroke:#1f77b4;\" x=\"66.686448\" xlink:href=\"#m961404b92a\" y=\"190.786149\"/>\n     <use style=\"fill:#ffffff;stroke:#1f77b4;\" x=\"69.481339\" xlink:href=\"#m961404b92a\" y=\"214.81972\"/>\n     <use style=\"fill:#ffffff;stroke:#1f77b4;\" x=\"72.27623\" xlink:href=\"#m961404b92a\" y=\"222.186702\"/>\n     <use style=\"fill:#ffffff;stroke:#1f77b4;\" x=\"75.071121\" xlink:href=\"#m961404b92a\" y=\"225.557887\"/>\n     <use style=\"fill:#ffffff;stroke:#1f77b4;\" x=\"77.866012\" xlink:href=\"#m961404b92a\" y=\"216.382596\"/>\n     <use style=\"fill:#ffffff;stroke:#1f77b4;\" x=\"80.660903\" xlink:href=\"#m961404b92a\" y=\"205.399149\"/>\n     <use style=\"fill:#ffffff;stroke:#1f77b4;\" x=\"83.455795\" xlink:href=\"#m961404b92a\" y=\"202.423463\"/>\n     <use style=\"fill:#ffffff;stroke:#1f77b4;\" x=\"86.250686\" xlink:href=\"#m961404b92a\" y=\"205.646042\"/>\n     <use style=\"fill:#ffffff;stroke:#1f77b4;\" x=\"89.045577\" xlink:href=\"#m961404b92a\" y=\"211.661886\"/>\n     <use style=\"fill:#ffffff;stroke:#1f77b4;\" x=\"91.840468\" xlink:href=\"#m961404b92a\" y=\"221.371432\"/>\n     <use style=\"fill:#ffffff;stroke:#1f77b4;\" x=\"94.635359\" xlink:href=\"#m961404b92a\" y=\"227.126971\"/>\n     <use style=\"fill:#ffffff;stroke:#1f77b4;\" x=\"97.43025\" xlink:href=\"#m961404b92a\" y=\"228.960387\"/>\n     <use style=\"fill:#ffffff;stroke:#1f77b4;\" x=\"100.225141\" xlink:href=\"#m961404b92a\" y=\"227.957312\"/>\n     <use style=\"fill:#ffffff;stroke:#1f77b4;\" x=\"103.020032\" xlink:href=\"#m961404b92a\" y=\"226.189981\"/>\n     <use style=\"fill:#ffffff;stroke:#1f77b4;\" x=\"105.814923\" xlink:href=\"#m961404b92a\" y=\"222.965283\"/>\n     <use style=\"fill:#ffffff;stroke:#1f77b4;\" x=\"108.609814\" xlink:href=\"#m961404b92a\" y=\"222.46148\"/>\n     <use style=\"fill:#ffffff;stroke:#1f77b4;\" x=\"111.404705\" xlink:href=\"#m961404b92a\" y=\"222.163891\"/>\n     <use style=\"fill:#ffffff;stroke:#1f77b4;\" x=\"114.199596\" xlink:href=\"#m961404b92a\" y=\"223.689895\"/>\n     <use style=\"fill:#ffffff;stroke:#1f77b4;\" x=\"116.994487\" xlink:href=\"#m961404b92a\" y=\"224.309295\"/>\n     <use style=\"fill:#ffffff;stroke:#1f77b4;\" x=\"119.789378\" xlink:href=\"#m961404b92a\" y=\"226.664715\"/>\n     <use style=\"fill:#ffffff;stroke:#1f77b4;\" x=\"122.584269\" xlink:href=\"#m961404b92a\" y=\"228.602958\"/>\n     <use style=\"fill:#ffffff;stroke:#1f77b4;\" x=\"125.37916\" xlink:href=\"#m961404b92a\" y=\"229.46961\"/>\n     <use style=\"fill:#ffffff;stroke:#1f77b4;\" x=\"128.174051\" xlink:href=\"#m961404b92a\" y=\"229.515473\"/>\n     <use style=\"fill:#ffffff;stroke:#1f77b4;\" x=\"130.968943\" xlink:href=\"#m961404b92a\" y=\"229.023403\"/>\n     <use style=\"fill:#ffffff;stroke:#1f77b4;\" x=\"133.763834\" xlink:href=\"#m961404b92a\" y=\"228.373509\"/>\n     <use style=\"fill:#ffffff;stroke:#1f77b4;\" x=\"136.558725\" xlink:href=\"#m961404b92a\" y=\"227.938316\"/>\n     <use style=\"fill:#ffffff;stroke:#1f77b4;\" x=\"139.353616\" xlink:href=\"#m961404b92a\" y=\"227.555157\"/>\n     <use style=\"fill:#ffffff;stroke:#1f77b4;\" x=\"142.148507\" xlink:href=\"#m961404b92a\" y=\"227.885715\"/>\n     <use style=\"fill:#ffffff;stroke:#1f77b4;\" x=\"144.943398\" xlink:href=\"#m961404b92a\" y=\"228.379602\"/>\n     <use style=\"fill:#ffffff;stroke:#1f77b4;\" x=\"147.738289\" xlink:href=\"#m961404b92a\" y=\"228.704205\"/>\n     <use style=\"fill:#ffffff;stroke:#1f77b4;\" x=\"150.53318\" xlink:href=\"#m961404b92a\" y=\"229.198337\"/>\n     <use style=\"fill:#ffffff;stroke:#1f77b4;\" x=\"153.328071\" xlink:href=\"#m961404b92a\" y=\"229.681844\"/>\n     <use style=\"fill:#ffffff;stroke:#1f77b4;\" x=\"156.122962\" xlink:href=\"#m961404b92a\" y=\"229.806216\"/>\n     <use style=\"fill:#ffffff;stroke:#1f77b4;\" x=\"158.917853\" xlink:href=\"#m961404b92a\" y=\"229.633046\"/>\n     <use style=\"fill:#ffffff;stroke:#1f77b4;\" x=\"161.712744\" xlink:href=\"#m961404b92a\" y=\"229.443113\"/>\n     <use style=\"fill:#ffffff;stroke:#1f77b4;\" x=\"164.507635\" xlink:href=\"#m961404b92a\" y=\"229.054141\"/>\n     <use style=\"fill:#ffffff;stroke:#1f77b4;\" x=\"167.302526\" xlink:href=\"#m961404b92a\" y=\"229.018789\"/>\n     <use style=\"fill:#ffffff;stroke:#1f77b4;\" x=\"170.097417\" xlink:href=\"#m961404b92a\" y=\"229.182133\"/>\n     <use style=\"fill:#ffffff;stroke:#1f77b4;\" x=\"172.892308\" xlink:href=\"#m961404b92a\" y=\"229.315838\"/>\n     <use style=\"fill:#ffffff;stroke:#1f77b4;\" x=\"175.687199\" xlink:href=\"#m961404b92a\" y=\"229.500147\"/>\n     <use style=\"fill:#ffffff;stroke:#1f77b4;\" x=\"178.482091\" xlink:href=\"#m961404b92a\" y=\"229.669579\"/>\n     <use style=\"fill:#ffffff;stroke:#1f77b4;\" x=\"181.276982\" xlink:href=\"#m961404b92a\" y=\"229.812136\"/>\n     <use style=\"fill:#ffffff;stroke:#1f77b4;\" x=\"184.071873\" xlink:href=\"#m961404b92a\" y=\"229.844075\"/>\n     <use style=\"fill:#ffffff;stroke:#1f77b4;\" x=\"186.866764\" xlink:href=\"#m961404b92a\" y=\"229.794062\"/>\n     <use style=\"fill:#ffffff;stroke:#1f77b4;\" x=\"189.661655\" xlink:href=\"#m961404b92a\" y=\"229.69229\"/>\n     <use style=\"fill:#ffffff;stroke:#1f77b4;\" x=\"192.456546\" xlink:href=\"#m961404b92a\" y=\"229.614946\"/>\n     <use style=\"fill:#ffffff;stroke:#1f77b4;\" x=\"195.251437\" xlink:href=\"#m961404b92a\" y=\"229.594258\"/>\n     <use style=\"fill:#ffffff;stroke:#1f77b4;\" x=\"198.046328\" xlink:href=\"#m961404b92a\" y=\"229.64499\"/>\n     <use style=\"fill:#ffffff;stroke:#1f77b4;\" x=\"200.841219\" xlink:href=\"#m961404b92a\" y=\"229.701686\"/>\n     <use style=\"fill:#ffffff;stroke:#1f77b4;\" x=\"203.63611\" xlink:href=\"#m961404b92a\" y=\"229.796844\"/>\n     <use style=\"fill:#ffffff;stroke:#1f77b4;\" x=\"206.431001\" xlink:href=\"#m961404b92a\" y=\"229.849001\"/>\n     <use style=\"fill:#ffffff;stroke:#1f77b4;\" x=\"209.225892\" xlink:href=\"#m961404b92a\" y=\"229.855766\"/>\n     <use style=\"fill:#ffffff;stroke:#1f77b4;\" x=\"212.020783\" xlink:href=\"#m961404b92a\" y=\"229.84366\"/>\n     <use style=\"fill:#ffffff;stroke:#1f77b4;\" x=\"214.815674\" xlink:href=\"#m961404b92a\" y=\"229.815923\"/>\n     <use style=\"fill:#ffffff;stroke:#1f77b4;\" x=\"217.610565\" xlink:href=\"#m961404b92a\" y=\"229.783085\"/>\n     <use style=\"fill:#ffffff;stroke:#1f77b4;\" x=\"220.405456\" xlink:href=\"#m961404b92a\" y=\"229.768204\"/>\n     <use style=\"fill:#ffffff;stroke:#1f77b4;\" x=\"223.200347\" xlink:href=\"#m961404b92a\" y=\"229.767496\"/>\n     <use style=\"fill:#ffffff;stroke:#1f77b4;\" x=\"225.995239\" xlink:href=\"#m961404b92a\" y=\"229.810724\"/>\n     <use style=\"fill:#ffffff;stroke:#1f77b4;\" x=\"228.79013\" xlink:href=\"#m961404b92a\" y=\"229.831857\"/>\n     <use style=\"fill:#ffffff;stroke:#1f77b4;\" x=\"231.585021\" xlink:href=\"#m961404b92a\" y=\"229.856402\"/>\n     <use style=\"fill:#ffffff;stroke:#1f77b4;\" x=\"234.379912\" xlink:href=\"#m961404b92a\" y=\"229.868041\"/>\n     <use style=\"fill:#ffffff;stroke:#1f77b4;\" x=\"237.174803\" xlink:href=\"#m961404b92a\" y=\"229.861404\"/>\n     <use style=\"fill:#ffffff;stroke:#1f77b4;\" x=\"239.969694\" xlink:href=\"#m961404b92a\" y=\"229.851122\"/>\n     <use style=\"fill:#ffffff;stroke:#1f77b4;\" x=\"242.764585\" xlink:href=\"#m961404b92a\" y=\"229.837757\"/>\n     <use style=\"fill:#ffffff;stroke:#1f77b4;\" x=\"245.559476\" xlink:href=\"#m961404b92a\" y=\"229.835407\"/>\n     <use style=\"fill:#ffffff;stroke:#1f77b4;\" x=\"248.354367\" xlink:href=\"#m961404b92a\" y=\"229.836217\"/>\n     <use style=\"fill:#ffffff;stroke:#1f77b4;\" x=\"251.149258\" xlink:href=\"#m961404b92a\" y=\"229.855186\"/>\n     <use style=\"fill:#ffffff;stroke:#1f77b4;\" x=\"253.944149\" xlink:href=\"#m961404b92a\" y=\"229.859127\"/>\n     <use style=\"fill:#ffffff;stroke:#1f77b4;\" x=\"256.73904\" xlink:href=\"#m961404b92a\" y=\"229.86541\"/>\n     <use style=\"fill:#ffffff;stroke:#1f77b4;\" x=\"259.533931\" xlink:href=\"#m961404b92a\" y=\"229.866979\"/>\n     <use style=\"fill:#ffffff;stroke:#1f77b4;\" x=\"262.328822\" xlink:href=\"#m961404b92a\" y=\"229.864318\"/>\n     <use style=\"fill:#ffffff;stroke:#1f77b4;\" x=\"265.123713\" xlink:href=\"#m961404b92a\" y=\"229.862583\"/>\n     <use style=\"fill:#ffffff;stroke:#1f77b4;\" x=\"267.918604\" xlink:href=\"#m961404b92a\" y=\"229.85536\"/>\n     <use style=\"fill:#ffffff;stroke:#1f77b4;\" x=\"270.713495\" xlink:href=\"#m961404b92a\" y=\"229.852037\"/>\n     <use style=\"fill:#ffffff;stroke:#1f77b4;\" x=\"273.508387\" xlink:href=\"#m961404b92a\" y=\"229.863323\"/>\n     <use style=\"fill:#ffffff;stroke:#1f77b4;\" x=\"276.303278\" xlink:href=\"#m961404b92a\" y=\"229.865012\"/>\n     <use style=\"fill:#ffffff;stroke:#1f77b4;\" x=\"279.098169\" xlink:href=\"#m961404b92a\" y=\"229.871009\"/>\n     <use style=\"fill:#ffffff;stroke:#1f77b4;\" x=\"281.89306\" xlink:href=\"#m961404b92a\" y=\"229.872931\"/>\n     <use style=\"fill:#ffffff;stroke:#1f77b4;\" x=\"284.687951\" xlink:href=\"#m961404b92a\" y=\"229.870192\"/>\n     <use style=\"fill:#ffffff;stroke:#1f77b4;\" x=\"287.482842\" xlink:href=\"#m961404b92a\" y=\"229.867344\"/>\n     <use style=\"fill:#ffffff;stroke:#1f77b4;\" x=\"290.277733\" xlink:href=\"#m961404b92a\" y=\"229.866615\"/>\n     <use style=\"fill:#ffffff;stroke:#1f77b4;\" x=\"293.072624\" xlink:href=\"#m961404b92a\" y=\"229.868998\"/>\n     <use style=\"fill:#ffffff;stroke:#1f77b4;\" x=\"295.867515\" xlink:href=\"#m961404b92a\" y=\"229.866713\"/>\n     <use style=\"fill:#ffffff;stroke:#1f77b4;\" x=\"298.662406\" xlink:href=\"#m961404b92a\" y=\"229.869615\"/>\n     <use style=\"fill:#ffffff;stroke:#1f77b4;\" x=\"301.457297\" xlink:href=\"#m961404b92a\" y=\"229.86902\"/>\n     <use style=\"fill:#ffffff;stroke:#1f77b4;\" x=\"304.252188\" xlink:href=\"#m961404b92a\" y=\"229.874489\"/>\n     <use style=\"fill:#ffffff;stroke:#1f77b4;\" x=\"307.047079\" xlink:href=\"#m961404b92a\" y=\"229.872197\"/>\n     <use style=\"fill:#ffffff;stroke:#1f77b4;\" x=\"309.84197\" xlink:href=\"#m961404b92a\" y=\"229.872523\"/>\n     <use style=\"fill:#ffffff;stroke:#1f77b4;\" x=\"312.636861\" xlink:href=\"#m961404b92a\" y=\"229.8713\"/>\n     <use style=\"fill:#ffffff;stroke:#1f77b4;\" x=\"315.431752\" xlink:href=\"#m961404b92a\" y=\"229.869055\"/>\n     <use style=\"fill:#ffffff;stroke:#1f77b4;\" x=\"318.226644\" xlink:href=\"#m961404b92a\" y=\"229.872316\"/>\n     <use style=\"fill:#ffffff;stroke:#1f77b4;\" x=\"321.021535\" xlink:href=\"#m961404b92a\" y=\"229.870806\"/>\n     <use style=\"fill:#ffffff;stroke:#1f77b4;\" x=\"323.816426\" xlink:href=\"#m961404b92a\" y=\"229.871339\"/>\n    </g>\n   </g>\n   <g id=\"patch_3\">\n    <path d=\"M 33.2875 239.758125 \nL 33.2875 22.318125 \n\" style=\"fill:none;stroke:#000000;stroke-linecap:square;stroke-linejoin:miter;stroke-width:0.8;\"/>\n   </g>\n   <g id=\"patch_4\">\n    <path d=\"M 337.651136 239.758125 \nL 337.651136 22.318125 \n\" style=\"fill:none;stroke:#000000;stroke-linecap:square;stroke-linejoin:miter;stroke-width:0.8;\"/>\n   </g>\n   <g id=\"patch_5\">\n    <path d=\"M 33.2875 239.758125 \nL 337.651136 239.758125 \n\" style=\"fill:none;stroke:#000000;stroke-linecap:square;stroke-linejoin:miter;stroke-width:0.8;\"/>\n   </g>\n   <g id=\"patch_6\">\n    <path d=\"M 33.2875 22.318125 \nL 337.651136 22.318125 \n\" style=\"fill:none;stroke:#000000;stroke-linecap:square;stroke-linejoin:miter;stroke-width:0.8;\"/>\n   </g>\n   <g id=\"text_14\">\n    <!-- Loss -->\n    <defs>\n     <path d=\"M 9.8125 72.90625 \nL 19.671875 72.90625 \nL 19.671875 8.296875 \nL 55.171875 8.296875 \nL 55.171875 0 \nL 9.8125 0 \nz\n\" id=\"DejaVuSans-76\"/>\n     <path d=\"M 44.28125 53.078125 \nL 44.28125 44.578125 \nQ 40.484375 46.53125 36.375 47.5 \nQ 32.28125 48.484375 27.875 48.484375 \nQ 21.1875 48.484375 17.84375 46.4375 \nQ 14.5 44.390625 14.5 40.28125 \nQ 14.5 37.15625 16.890625 35.375 \nQ 19.28125 33.59375 26.515625 31.984375 \nL 29.59375 31.296875 \nQ 39.15625 29.25 43.1875 25.515625 \nQ 47.21875 21.78125 47.21875 15.09375 \nQ 47.21875 7.46875 41.1875 3.015625 \nQ 35.15625 -1.421875 24.609375 -1.421875 \nQ 20.21875 -1.421875 15.453125 -0.5625 \nQ 10.6875 0.296875 5.421875 2 \nL 5.421875 11.28125 \nQ 10.40625 8.6875 15.234375 7.390625 \nQ 20.0625 6.109375 24.8125 6.109375 \nQ 31.15625 6.109375 34.5625 8.28125 \nQ 37.984375 10.453125 37.984375 14.40625 \nQ 37.984375 18.0625 35.515625 20.015625 \nQ 33.0625 21.96875 24.703125 23.78125 \nL 21.578125 24.515625 \nQ 13.234375 26.265625 9.515625 29.90625 \nQ 5.8125 33.546875 5.8125 39.890625 \nQ 5.8125 47.609375 11.28125 51.796875 \nQ 16.75 56 26.8125 56 \nQ 31.78125 56 36.171875 55.265625 \nQ 40.578125 54.546875 44.28125 53.078125 \nz\n\" id=\"DejaVuSans-115\"/>\n    </defs>\n    <g transform=\"translate(172.308693 16.318125)scale(0.12 -0.12)\">\n     <use xlink:href=\"#DejaVuSans-76\"/>\n     <use x=\"53.962891\" xlink:href=\"#DejaVuSans-111\"/>\n     <use x=\"115.144531\" xlink:href=\"#DejaVuSans-115\"/>\n     <use x=\"167.244141\" xlink:href=\"#DejaVuSans-115\"/>\n    </g>\n   </g>\n  </g>\n  <g id=\"axes_2\">\n   <g id=\"patch_7\">\n    <path d=\"M 398.523864 239.758125 \nL 702.8875 239.758125 \nL 702.8875 22.318125 \nL 398.523864 22.318125 \nz\n\" style=\"fill:#ffffff;\"/>\n   </g>\n   <g id=\"matplotlib.axis_3\">\n    <g id=\"xtick_7\">\n     <g id=\"line2d_14\">\n      <g>\n       <use style=\"stroke:#000000;stroke-width:0.8;\" x=\"412.358574\" xlink:href=\"#m3ee4cf1429\" y=\"239.758125\"/>\n      </g>\n     </g>\n     <g id=\"text_15\">\n      <!-- 0 -->\n      <g transform=\"translate(409.177324 254.356562)scale(0.1 -0.1)\">\n       <use xlink:href=\"#DejaVuSans-48\"/>\n      </g>\n     </g>\n    </g>\n    <g id=\"xtick_8\">\n     <g id=\"line2d_15\">\n      <g>\n       <use style=\"stroke:#000000;stroke-width:0.8;\" x=\"468.256396\" xlink:href=\"#m3ee4cf1429\" y=\"239.758125\"/>\n      </g>\n     </g>\n     <g id=\"text_16\">\n      <!-- 20 -->\n      <g transform=\"translate(461.893896 254.356562)scale(0.1 -0.1)\">\n       <use xlink:href=\"#DejaVuSans-50\"/>\n       <use x=\"63.623047\" xlink:href=\"#DejaVuSans-48\"/>\n      </g>\n     </g>\n    </g>\n    <g id=\"xtick_9\">\n     <g id=\"line2d_16\">\n      <g>\n       <use style=\"stroke:#000000;stroke-width:0.8;\" x=\"524.154217\" xlink:href=\"#m3ee4cf1429\" y=\"239.758125\"/>\n      </g>\n     </g>\n     <g id=\"text_17\">\n      <!-- 40 -->\n      <g transform=\"translate(517.791717 254.356562)scale(0.1 -0.1)\">\n       <use xlink:href=\"#DejaVuSans-52\"/>\n       <use x=\"63.623047\" xlink:href=\"#DejaVuSans-48\"/>\n      </g>\n     </g>\n    </g>\n    <g id=\"xtick_10\">\n     <g id=\"line2d_17\">\n      <g>\n       <use style=\"stroke:#000000;stroke-width:0.8;\" x=\"580.052038\" xlink:href=\"#m3ee4cf1429\" y=\"239.758125\"/>\n      </g>\n     </g>\n     <g id=\"text_18\">\n      <!-- 60 -->\n      <g transform=\"translate(573.689538 254.356562)scale(0.1 -0.1)\">\n       <use xlink:href=\"#DejaVuSans-54\"/>\n       <use x=\"63.623047\" xlink:href=\"#DejaVuSans-48\"/>\n      </g>\n     </g>\n    </g>\n    <g id=\"xtick_11\">\n     <g id=\"line2d_18\">\n      <g>\n       <use style=\"stroke:#000000;stroke-width:0.8;\" x=\"635.949859\" xlink:href=\"#m3ee4cf1429\" y=\"239.758125\"/>\n      </g>\n     </g>\n     <g id=\"text_19\">\n      <!-- 80 -->\n      <g transform=\"translate(629.587359 254.356562)scale(0.1 -0.1)\">\n       <use xlink:href=\"#DejaVuSans-56\"/>\n       <use x=\"63.623047\" xlink:href=\"#DejaVuSans-48\"/>\n      </g>\n     </g>\n    </g>\n    <g id=\"xtick_12\">\n     <g id=\"line2d_19\">\n      <g>\n       <use style=\"stroke:#000000;stroke-width:0.8;\" x=\"691.84768\" xlink:href=\"#m3ee4cf1429\" y=\"239.758125\"/>\n      </g>\n     </g>\n     <g id=\"text_20\">\n      <!-- 100 -->\n      <g transform=\"translate(682.30393 254.356562)scale(0.1 -0.1)\">\n       <use xlink:href=\"#DejaVuSans-49\"/>\n       <use x=\"63.623047\" xlink:href=\"#DejaVuSans-48\"/>\n       <use x=\"127.246094\" xlink:href=\"#DejaVuSans-48\"/>\n      </g>\n     </g>\n    </g>\n    <g id=\"text_21\">\n     <!-- x -->\n     <defs>\n      <path d=\"M 54.890625 54.6875 \nL 35.109375 28.078125 \nL 55.90625 0 \nL 45.3125 0 \nL 29.390625 21.484375 \nL 13.484375 0 \nL 2.875 0 \nL 24.125 28.609375 \nL 4.6875 54.6875 \nL 15.28125 54.6875 \nL 29.78125 35.203125 \nL 44.28125 54.6875 \nz\n\" id=\"DejaVuSans-120\"/>\n     </defs>\n     <g transform=\"translate(547.746307 268.034687)scale(0.1 -0.1)\">\n      <use xlink:href=\"#DejaVuSans-120\"/>\n     </g>\n    </g>\n   </g>\n   <g id=\"matplotlib.axis_4\">\n    <g id=\"ytick_7\">\n     <g id=\"line2d_20\">\n      <g>\n       <use style=\"stroke:#000000;stroke-width:0.8;\" x=\"398.523864\" xlink:href=\"#m0ec12e40a3\" y=\"229.874489\"/>\n      </g>\n     </g>\n     <g id=\"text_22\">\n      <!-- 0 -->\n      <g transform=\"translate(385.161364 233.673707)scale(0.1 -0.1)\">\n       <use xlink:href=\"#DejaVuSans-48\"/>\n      </g>\n     </g>\n    </g>\n    <g id=\"ytick_8\">\n     <g id=\"line2d_21\">\n      <g>\n       <use style=\"stroke:#000000;stroke-width:0.8;\" x=\"398.523864\" xlink:href=\"#m0ec12e40a3\" y=\"190.339943\"/>\n      </g>\n     </g>\n     <g id=\"text_23\">\n      <!-- 20 -->\n      <g transform=\"translate(378.798864 194.139162)scale(0.1 -0.1)\">\n       <use xlink:href=\"#DejaVuSans-50\"/>\n       <use x=\"63.623047\" xlink:href=\"#DejaVuSans-48\"/>\n      </g>\n     </g>\n    </g>\n    <g id=\"ytick_9\">\n     <g id=\"line2d_22\">\n      <g>\n       <use style=\"stroke:#000000;stroke-width:0.8;\" x=\"398.523864\" xlink:href=\"#m0ec12e40a3\" y=\"150.805398\"/>\n      </g>\n     </g>\n     <g id=\"text_24\">\n      <!-- 40 -->\n      <g transform=\"translate(378.798864 154.604616)scale(0.1 -0.1)\">\n       <use xlink:href=\"#DejaVuSans-52\"/>\n       <use x=\"63.623047\" xlink:href=\"#DejaVuSans-48\"/>\n      </g>\n     </g>\n    </g>\n    <g id=\"ytick_10\">\n     <g id=\"line2d_23\">\n      <g>\n       <use style=\"stroke:#000000;stroke-width:0.8;\" x=\"398.523864\" xlink:href=\"#m0ec12e40a3\" y=\"111.270852\"/>\n      </g>\n     </g>\n     <g id=\"text_25\">\n      <!-- 60 -->\n      <g transform=\"translate(378.798864 115.070071)scale(0.1 -0.1)\">\n       <use xlink:href=\"#DejaVuSans-54\"/>\n       <use x=\"63.623047\" xlink:href=\"#DejaVuSans-48\"/>\n      </g>\n     </g>\n    </g>\n    <g id=\"ytick_11\">\n     <g id=\"line2d_24\">\n      <g>\n       <use style=\"stroke:#000000;stroke-width:0.8;\" x=\"398.523864\" xlink:href=\"#m0ec12e40a3\" y=\"71.736307\"/>\n      </g>\n     </g>\n     <g id=\"text_26\">\n      <!-- 80 -->\n      <g transform=\"translate(378.798864 75.535526)scale(0.1 -0.1)\">\n       <use xlink:href=\"#DejaVuSans-56\"/>\n       <use x=\"63.623047\" xlink:href=\"#DejaVuSans-48\"/>\n      </g>\n     </g>\n    </g>\n    <g id=\"ytick_12\">\n     <g id=\"line2d_25\">\n      <g>\n       <use style=\"stroke:#000000;stroke-width:0.8;\" x=\"398.523864\" xlink:href=\"#m0ec12e40a3\" y=\"32.201761\"/>\n      </g>\n     </g>\n     <g id=\"text_27\">\n      <!-- 100 -->\n      <g transform=\"translate(372.436364 36.00098)scale(0.1 -0.1)\">\n       <use xlink:href=\"#DejaVuSans-49\"/>\n       <use x=\"63.623047\" xlink:href=\"#DejaVuSans-48\"/>\n       <use x=\"127.246094\" xlink:href=\"#DejaVuSans-48\"/>\n      </g>\n     </g>\n    </g>\n    <g id=\"text_28\">\n     <!-- y -->\n     <defs>\n      <path d=\"M 32.171875 -5.078125 \nQ 28.375 -14.84375 24.75 -17.8125 \nQ 21.140625 -20.796875 15.09375 -20.796875 \nL 7.90625 -20.796875 \nL 7.90625 -13.28125 \nL 13.1875 -13.28125 \nQ 16.890625 -13.28125 18.9375 -11.515625 \nQ 21 -9.765625 23.484375 -3.21875 \nL 25.09375 0.875 \nL 2.984375 54.6875 \nL 12.5 54.6875 \nL 29.59375 11.921875 \nL 46.6875 54.6875 \nL 56.203125 54.6875 \nz\n\" id=\"DejaVuSans-121\"/>\n     </defs>\n     <g transform=\"translate(366.356676 133.9975)rotate(-90)scale(0.1 -0.1)\">\n      <use xlink:href=\"#DejaVuSans-121\"/>\n     </g>\n    </g>\n   </g>\n   <g id=\"line2d_26\">\n    <path clip-path=\"url(#p817eac23ed)\" d=\"M 412.358574 223.697216 \nL 415.153465 223.697216 \nL 417.948356 223.697216 \nL 420.743248 223.697216 \nL 423.538139 229.874489 \nL 426.33303 217.519943 \nL 429.127921 217.519943 \nL 431.922812 217.519943 \nL 434.717703 155.747216 \nL 437.512594 192.810852 \nL 440.307485 198.988125 \nL 443.102376 223.697216 \nL 445.897267 229.874489 \nL 448.692158 229.874489 \nL 451.487049 229.874489 \nL 454.28194 223.697216 \nL 457.076831 217.519943 \nL 459.871722 192.810852 \nL 462.666613 161.924489 \nL 465.461505 112.506307 \nL 468.256396 174.279034 \nL 471.051287 198.988125 \nL 473.846178 205.165398 \nL 476.641069 205.165398 \nL 479.43596 217.519943 \nL 482.230851 205.165398 \nL 485.025742 198.988125 \nL 487.820633 180.456307 \nL 490.615524 131.038125 \nL 493.410415 131.038125 \nL 496.205306 161.924489 \nL 499.000197 180.456307 \nL 501.795088 180.456307 \nL 504.589979 198.988125 \nL 507.38487 198.988125 \nL 510.179761 180.456307 \nL 512.974653 149.569943 \nL 515.769544 149.569943 \nL 518.564435 93.974489 \nL 521.359326 50.73358 \nL 524.154217 106.329034 \nL 526.949108 131.038125 \nL 529.743999 161.924489 \nL 532.53889 161.924489 \nL 535.333781 161.924489 \nL 538.128672 155.747216 \nL 540.923563 137.215398 \nL 543.718454 100.151761 \nL 546.513345 50.73358 \nL 549.308236 32.201761 \nL 552.103127 63.088125 \nL 554.898018 100.151761 \nL 557.692909 137.215398 \nL 560.487801 137.215398 \nL 563.282692 131.038125 \nL 566.077583 106.329034 \nL 568.872474 63.088125 \nL 571.667365 32.201761 \nL 574.462256 32.201761 \nL 577.257147 44.556307 \nL 580.052038 50.73358 \nL 582.846929 69.265398 \nL 585.64182 81.619943 \nL 588.436711 81.619943 \nL 591.231602 56.910852 \nL 594.026493 38.379034 \nL 596.821384 32.201761 \nL 599.616275 32.201761 \nL 602.411166 32.201761 \nL 605.206057 32.201761 \nL 608.000949 38.379034 \nL 610.79584 38.379034 \nL 613.590731 32.201761 \nL 616.385622 32.201761 \nL 619.180513 32.201761 \nL 621.975404 32.201761 \nL 624.770295 32.201761 \nL 627.565186 32.201761 \nL 630.360077 32.201761 \nL 633.154968 32.201761 \nL 635.949859 32.201761 \nL 638.74475 32.201761 \nL 641.539641 32.201761 \nL 644.334532 32.201761 \nL 647.129423 32.201761 \nL 649.924314 32.201761 \nL 652.719205 32.201761 \nL 655.514097 32.201761 \nL 658.308988 32.201761 \nL 661.103879 32.201761 \nL 663.89877 32.201761 \nL 666.693661 32.201761 \nL 669.488552 32.201761 \nL 672.283443 32.201761 \nL 675.078334 32.201761 \nL 677.873225 32.201761 \nL 680.668116 32.201761 \nL 683.463007 32.201761 \nL 686.257898 32.201761 \nL 689.052789 32.201761 \n\" style=\"fill:none;stroke:#0000ff;stroke-linecap:square;stroke-width:1.5;\"/>\n    <defs>\n     <path d=\"M 0 3 \nC 0.795609 3 1.55874 2.683901 2.12132 2.12132 \nC 2.683901 1.55874 3 0.795609 3 0 \nC 3 -0.795609 2.683901 -1.55874 2.12132 -2.12132 \nC 1.55874 -2.683901 0.795609 -3 0 -3 \nC -0.795609 -3 -1.55874 -2.683901 -2.12132 -2.12132 \nC -2.683901 -1.55874 -3 -0.795609 -3 0 \nC -3 0.795609 -2.683901 1.55874 -2.12132 2.12132 \nC -1.55874 2.683901 -0.795609 3 0 3 \nz\n\" id=\"m7498546fa6\" style=\"stroke:#0000ff;\"/>\n    </defs>\n    <g clip-path=\"url(#p817eac23ed)\">\n     <use style=\"fill:#0000ff;stroke:#0000ff;\" x=\"412.358574\" xlink:href=\"#m7498546fa6\" y=\"223.697216\"/>\n     <use style=\"fill:#0000ff;stroke:#0000ff;\" x=\"415.153465\" xlink:href=\"#m7498546fa6\" y=\"223.697216\"/>\n     <use style=\"fill:#0000ff;stroke:#0000ff;\" x=\"417.948356\" xlink:href=\"#m7498546fa6\" y=\"223.697216\"/>\n     <use style=\"fill:#0000ff;stroke:#0000ff;\" x=\"420.743248\" xlink:href=\"#m7498546fa6\" y=\"223.697216\"/>\n     <use style=\"fill:#0000ff;stroke:#0000ff;\" x=\"423.538139\" xlink:href=\"#m7498546fa6\" y=\"229.874489\"/>\n     <use style=\"fill:#0000ff;stroke:#0000ff;\" x=\"426.33303\" xlink:href=\"#m7498546fa6\" y=\"217.519943\"/>\n     <use style=\"fill:#0000ff;stroke:#0000ff;\" x=\"429.127921\" xlink:href=\"#m7498546fa6\" y=\"217.519943\"/>\n     <use style=\"fill:#0000ff;stroke:#0000ff;\" x=\"431.922812\" xlink:href=\"#m7498546fa6\" y=\"217.519943\"/>\n     <use style=\"fill:#0000ff;stroke:#0000ff;\" x=\"434.717703\" xlink:href=\"#m7498546fa6\" y=\"155.747216\"/>\n     <use style=\"fill:#0000ff;stroke:#0000ff;\" x=\"437.512594\" xlink:href=\"#m7498546fa6\" y=\"192.810852\"/>\n     <use style=\"fill:#0000ff;stroke:#0000ff;\" x=\"440.307485\" xlink:href=\"#m7498546fa6\" y=\"198.988125\"/>\n     <use style=\"fill:#0000ff;stroke:#0000ff;\" x=\"443.102376\" xlink:href=\"#m7498546fa6\" y=\"223.697216\"/>\n     <use style=\"fill:#0000ff;stroke:#0000ff;\" x=\"445.897267\" xlink:href=\"#m7498546fa6\" y=\"229.874489\"/>\n     <use style=\"fill:#0000ff;stroke:#0000ff;\" x=\"448.692158\" xlink:href=\"#m7498546fa6\" y=\"229.874489\"/>\n     <use style=\"fill:#0000ff;stroke:#0000ff;\" x=\"451.487049\" xlink:href=\"#m7498546fa6\" y=\"229.874489\"/>\n     <use style=\"fill:#0000ff;stroke:#0000ff;\" x=\"454.28194\" xlink:href=\"#m7498546fa6\" y=\"223.697216\"/>\n     <use style=\"fill:#0000ff;stroke:#0000ff;\" x=\"457.076831\" xlink:href=\"#m7498546fa6\" y=\"217.519943\"/>\n     <use style=\"fill:#0000ff;stroke:#0000ff;\" x=\"459.871722\" xlink:href=\"#m7498546fa6\" y=\"192.810852\"/>\n     <use style=\"fill:#0000ff;stroke:#0000ff;\" x=\"462.666613\" xlink:href=\"#m7498546fa6\" y=\"161.924489\"/>\n     <use style=\"fill:#0000ff;stroke:#0000ff;\" x=\"465.461505\" xlink:href=\"#m7498546fa6\" y=\"112.506307\"/>\n     <use style=\"fill:#0000ff;stroke:#0000ff;\" x=\"468.256396\" xlink:href=\"#m7498546fa6\" y=\"174.279034\"/>\n     <use style=\"fill:#0000ff;stroke:#0000ff;\" x=\"471.051287\" xlink:href=\"#m7498546fa6\" y=\"198.988125\"/>\n     <use style=\"fill:#0000ff;stroke:#0000ff;\" x=\"473.846178\" xlink:href=\"#m7498546fa6\" y=\"205.165398\"/>\n     <use style=\"fill:#0000ff;stroke:#0000ff;\" x=\"476.641069\" xlink:href=\"#m7498546fa6\" y=\"205.165398\"/>\n     <use style=\"fill:#0000ff;stroke:#0000ff;\" x=\"479.43596\" xlink:href=\"#m7498546fa6\" y=\"217.519943\"/>\n     <use style=\"fill:#0000ff;stroke:#0000ff;\" x=\"482.230851\" xlink:href=\"#m7498546fa6\" y=\"205.165398\"/>\n     <use style=\"fill:#0000ff;stroke:#0000ff;\" x=\"485.025742\" xlink:href=\"#m7498546fa6\" y=\"198.988125\"/>\n     <use style=\"fill:#0000ff;stroke:#0000ff;\" x=\"487.820633\" xlink:href=\"#m7498546fa6\" y=\"180.456307\"/>\n     <use style=\"fill:#0000ff;stroke:#0000ff;\" x=\"490.615524\" xlink:href=\"#m7498546fa6\" y=\"131.038125\"/>\n     <use style=\"fill:#0000ff;stroke:#0000ff;\" x=\"493.410415\" xlink:href=\"#m7498546fa6\" y=\"131.038125\"/>\n     <use style=\"fill:#0000ff;stroke:#0000ff;\" x=\"496.205306\" xlink:href=\"#m7498546fa6\" y=\"161.924489\"/>\n     <use style=\"fill:#0000ff;stroke:#0000ff;\" x=\"499.000197\" xlink:href=\"#m7498546fa6\" y=\"180.456307\"/>\n     <use style=\"fill:#0000ff;stroke:#0000ff;\" x=\"501.795088\" xlink:href=\"#m7498546fa6\" y=\"180.456307\"/>\n     <use style=\"fill:#0000ff;stroke:#0000ff;\" x=\"504.589979\" xlink:href=\"#m7498546fa6\" y=\"198.988125\"/>\n     <use style=\"fill:#0000ff;stroke:#0000ff;\" x=\"507.38487\" xlink:href=\"#m7498546fa6\" y=\"198.988125\"/>\n     <use style=\"fill:#0000ff;stroke:#0000ff;\" x=\"510.179761\" xlink:href=\"#m7498546fa6\" y=\"180.456307\"/>\n     <use style=\"fill:#0000ff;stroke:#0000ff;\" x=\"512.974653\" xlink:href=\"#m7498546fa6\" y=\"149.569943\"/>\n     <use style=\"fill:#0000ff;stroke:#0000ff;\" x=\"515.769544\" xlink:href=\"#m7498546fa6\" y=\"149.569943\"/>\n     <use style=\"fill:#0000ff;stroke:#0000ff;\" x=\"518.564435\" xlink:href=\"#m7498546fa6\" y=\"93.974489\"/>\n     <use style=\"fill:#0000ff;stroke:#0000ff;\" x=\"521.359326\" xlink:href=\"#m7498546fa6\" y=\"50.73358\"/>\n     <use style=\"fill:#0000ff;stroke:#0000ff;\" x=\"524.154217\" xlink:href=\"#m7498546fa6\" y=\"106.329034\"/>\n     <use style=\"fill:#0000ff;stroke:#0000ff;\" x=\"526.949108\" xlink:href=\"#m7498546fa6\" y=\"131.038125\"/>\n     <use style=\"fill:#0000ff;stroke:#0000ff;\" x=\"529.743999\" xlink:href=\"#m7498546fa6\" y=\"161.924489\"/>\n     <use style=\"fill:#0000ff;stroke:#0000ff;\" x=\"532.53889\" xlink:href=\"#m7498546fa6\" y=\"161.924489\"/>\n     <use style=\"fill:#0000ff;stroke:#0000ff;\" x=\"535.333781\" xlink:href=\"#m7498546fa6\" y=\"161.924489\"/>\n     <use style=\"fill:#0000ff;stroke:#0000ff;\" x=\"538.128672\" xlink:href=\"#m7498546fa6\" y=\"155.747216\"/>\n     <use style=\"fill:#0000ff;stroke:#0000ff;\" x=\"540.923563\" xlink:href=\"#m7498546fa6\" y=\"137.215398\"/>\n     <use style=\"fill:#0000ff;stroke:#0000ff;\" x=\"543.718454\" xlink:href=\"#m7498546fa6\" y=\"100.151761\"/>\n     <use style=\"fill:#0000ff;stroke:#0000ff;\" x=\"546.513345\" xlink:href=\"#m7498546fa6\" y=\"50.73358\"/>\n     <use style=\"fill:#0000ff;stroke:#0000ff;\" x=\"549.308236\" xlink:href=\"#m7498546fa6\" y=\"32.201761\"/>\n     <use style=\"fill:#0000ff;stroke:#0000ff;\" x=\"552.103127\" xlink:href=\"#m7498546fa6\" y=\"63.088125\"/>\n     <use style=\"fill:#0000ff;stroke:#0000ff;\" x=\"554.898018\" xlink:href=\"#m7498546fa6\" y=\"100.151761\"/>\n     <use style=\"fill:#0000ff;stroke:#0000ff;\" x=\"557.692909\" xlink:href=\"#m7498546fa6\" y=\"137.215398\"/>\n     <use style=\"fill:#0000ff;stroke:#0000ff;\" x=\"560.487801\" xlink:href=\"#m7498546fa6\" y=\"137.215398\"/>\n     <use style=\"fill:#0000ff;stroke:#0000ff;\" x=\"563.282692\" xlink:href=\"#m7498546fa6\" y=\"131.038125\"/>\n     <use style=\"fill:#0000ff;stroke:#0000ff;\" x=\"566.077583\" xlink:href=\"#m7498546fa6\" y=\"106.329034\"/>\n     <use style=\"fill:#0000ff;stroke:#0000ff;\" x=\"568.872474\" xlink:href=\"#m7498546fa6\" y=\"63.088125\"/>\n     <use style=\"fill:#0000ff;stroke:#0000ff;\" x=\"571.667365\" xlink:href=\"#m7498546fa6\" y=\"32.201761\"/>\n     <use style=\"fill:#0000ff;stroke:#0000ff;\" x=\"574.462256\" xlink:href=\"#m7498546fa6\" y=\"32.201761\"/>\n     <use style=\"fill:#0000ff;stroke:#0000ff;\" x=\"577.257147\" xlink:href=\"#m7498546fa6\" y=\"44.556307\"/>\n     <use style=\"fill:#0000ff;stroke:#0000ff;\" x=\"580.052038\" xlink:href=\"#m7498546fa6\" y=\"50.73358\"/>\n     <use style=\"fill:#0000ff;stroke:#0000ff;\" x=\"582.846929\" xlink:href=\"#m7498546fa6\" y=\"69.265398\"/>\n     <use style=\"fill:#0000ff;stroke:#0000ff;\" x=\"585.64182\" xlink:href=\"#m7498546fa6\" y=\"81.619943\"/>\n     <use style=\"fill:#0000ff;stroke:#0000ff;\" x=\"588.436711\" xlink:href=\"#m7498546fa6\" y=\"81.619943\"/>\n     <use style=\"fill:#0000ff;stroke:#0000ff;\" x=\"591.231602\" xlink:href=\"#m7498546fa6\" y=\"56.910852\"/>\n     <use style=\"fill:#0000ff;stroke:#0000ff;\" x=\"594.026493\" xlink:href=\"#m7498546fa6\" y=\"38.379034\"/>\n     <use style=\"fill:#0000ff;stroke:#0000ff;\" x=\"596.821384\" xlink:href=\"#m7498546fa6\" y=\"32.201761\"/>\n     <use style=\"fill:#0000ff;stroke:#0000ff;\" x=\"599.616275\" xlink:href=\"#m7498546fa6\" y=\"32.201761\"/>\n     <use style=\"fill:#0000ff;stroke:#0000ff;\" x=\"602.411166\" xlink:href=\"#m7498546fa6\" y=\"32.201761\"/>\n     <use style=\"fill:#0000ff;stroke:#0000ff;\" x=\"605.206057\" xlink:href=\"#m7498546fa6\" y=\"32.201761\"/>\n     <use style=\"fill:#0000ff;stroke:#0000ff;\" x=\"608.000949\" xlink:href=\"#m7498546fa6\" y=\"38.379034\"/>\n     <use style=\"fill:#0000ff;stroke:#0000ff;\" x=\"610.79584\" xlink:href=\"#m7498546fa6\" y=\"38.379034\"/>\n     <use style=\"fill:#0000ff;stroke:#0000ff;\" x=\"613.590731\" xlink:href=\"#m7498546fa6\" y=\"32.201761\"/>\n     <use style=\"fill:#0000ff;stroke:#0000ff;\" x=\"616.385622\" xlink:href=\"#m7498546fa6\" y=\"32.201761\"/>\n     <use style=\"fill:#0000ff;stroke:#0000ff;\" x=\"619.180513\" xlink:href=\"#m7498546fa6\" y=\"32.201761\"/>\n     <use style=\"fill:#0000ff;stroke:#0000ff;\" x=\"621.975404\" xlink:href=\"#m7498546fa6\" y=\"32.201761\"/>\n     <use style=\"fill:#0000ff;stroke:#0000ff;\" x=\"624.770295\" xlink:href=\"#m7498546fa6\" y=\"32.201761\"/>\n     <use style=\"fill:#0000ff;stroke:#0000ff;\" x=\"627.565186\" xlink:href=\"#m7498546fa6\" y=\"32.201761\"/>\n     <use style=\"fill:#0000ff;stroke:#0000ff;\" x=\"630.360077\" xlink:href=\"#m7498546fa6\" y=\"32.201761\"/>\n     <use style=\"fill:#0000ff;stroke:#0000ff;\" x=\"633.154968\" xlink:href=\"#m7498546fa6\" y=\"32.201761\"/>\n     <use style=\"fill:#0000ff;stroke:#0000ff;\" x=\"635.949859\" xlink:href=\"#m7498546fa6\" y=\"32.201761\"/>\n     <use style=\"fill:#0000ff;stroke:#0000ff;\" x=\"638.74475\" xlink:href=\"#m7498546fa6\" y=\"32.201761\"/>\n     <use style=\"fill:#0000ff;stroke:#0000ff;\" x=\"641.539641\" xlink:href=\"#m7498546fa6\" y=\"32.201761\"/>\n     <use style=\"fill:#0000ff;stroke:#0000ff;\" x=\"644.334532\" xlink:href=\"#m7498546fa6\" y=\"32.201761\"/>\n     <use style=\"fill:#0000ff;stroke:#0000ff;\" x=\"647.129423\" xlink:href=\"#m7498546fa6\" y=\"32.201761\"/>\n     <use style=\"fill:#0000ff;stroke:#0000ff;\" x=\"649.924314\" xlink:href=\"#m7498546fa6\" y=\"32.201761\"/>\n     <use style=\"fill:#0000ff;stroke:#0000ff;\" x=\"652.719205\" xlink:href=\"#m7498546fa6\" y=\"32.201761\"/>\n     <use style=\"fill:#0000ff;stroke:#0000ff;\" x=\"655.514097\" xlink:href=\"#m7498546fa6\" y=\"32.201761\"/>\n     <use style=\"fill:#0000ff;stroke:#0000ff;\" x=\"658.308988\" xlink:href=\"#m7498546fa6\" y=\"32.201761\"/>\n     <use style=\"fill:#0000ff;stroke:#0000ff;\" x=\"661.103879\" xlink:href=\"#m7498546fa6\" y=\"32.201761\"/>\n     <use style=\"fill:#0000ff;stroke:#0000ff;\" x=\"663.89877\" xlink:href=\"#m7498546fa6\" y=\"32.201761\"/>\n     <use style=\"fill:#0000ff;stroke:#0000ff;\" x=\"666.693661\" xlink:href=\"#m7498546fa6\" y=\"32.201761\"/>\n     <use style=\"fill:#0000ff;stroke:#0000ff;\" x=\"669.488552\" xlink:href=\"#m7498546fa6\" y=\"32.201761\"/>\n     <use style=\"fill:#0000ff;stroke:#0000ff;\" x=\"672.283443\" xlink:href=\"#m7498546fa6\" y=\"32.201761\"/>\n     <use style=\"fill:#0000ff;stroke:#0000ff;\" x=\"675.078334\" xlink:href=\"#m7498546fa6\" y=\"32.201761\"/>\n     <use style=\"fill:#0000ff;stroke:#0000ff;\" x=\"677.873225\" xlink:href=\"#m7498546fa6\" y=\"32.201761\"/>\n     <use style=\"fill:#0000ff;stroke:#0000ff;\" x=\"680.668116\" xlink:href=\"#m7498546fa6\" y=\"32.201761\"/>\n     <use style=\"fill:#0000ff;stroke:#0000ff;\" x=\"683.463007\" xlink:href=\"#m7498546fa6\" y=\"32.201761\"/>\n     <use style=\"fill:#0000ff;stroke:#0000ff;\" x=\"686.257898\" xlink:href=\"#m7498546fa6\" y=\"32.201761\"/>\n     <use style=\"fill:#0000ff;stroke:#0000ff;\" x=\"689.052789\" xlink:href=\"#m7498546fa6\" y=\"32.201761\"/>\n    </g>\n   </g>\n   <g id=\"line2d_27\">\n    <path clip-path=\"url(#p817eac23ed)\" d=\"M 412.358574 229.874489 \nL 415.153465 229.874489 \nL 417.948356 229.874489 \nL 420.743248 229.874489 \nL 423.538139 229.874489 \nL 426.33303 229.874489 \nL 429.127921 150.805398 \nL 431.922812 150.805398 \nL 434.717703 170.57267 \nL 437.512594 190.339943 \nL 440.307485 229.874489 \nL 443.102376 229.874489 \nL 445.897267 210.107216 \nL 448.692158 229.874489 \nL 451.487049 210.107216 \nL 454.28194 190.339943 \nL 457.076831 190.339943 \nL 459.871722 111.270852 \nL 462.666613 91.50358 \nL 465.461505 131.038125 \nL 468.256396 150.805398 \nL 471.051287 190.339943 \nL 473.846178 190.339943 \nL 476.641069 210.107216 \nL 479.43596 190.339943 \nL 482.230851 170.57267 \nL 485.025742 131.038125 \nL 487.820633 111.270852 \nL 490.615524 131.038125 \nL 493.410415 150.805398 \nL 496.205306 150.805398 \nL 499.000197 150.805398 \nL 501.795088 150.805398 \nL 504.589979 131.038125 \nL 507.38487 150.805398 \nL 510.179761 190.339943 \nL 512.974653 190.339943 \nL 515.769544 71.736307 \nL 518.564435 32.201761 \nL 521.359326 71.736307 \nL 524.154217 91.50358 \nL 526.949108 111.270852 \nL 529.743999 91.50358 \nL 532.53889 91.50358 \nL 535.333781 71.736307 \nL 538.128672 71.736307 \nL 540.923563 51.969034 \nL 543.718454 51.969034 \nL 546.513345 51.969034 \nL 549.308236 51.969034 \nL 552.103127 51.969034 \nL 554.898018 71.736307 \nL 557.692909 111.270852 \nL 560.487801 71.736307 \nL 563.282692 51.969034 \nL 566.077583 51.969034 \nL 568.872474 32.201761 \nL 571.667365 51.969034 \nL 574.462256 51.969034 \nL 577.257147 51.969034 \nL 580.052038 51.969034 \nL 582.846929 51.969034 \nL 585.64182 51.969034 \nL 588.436711 32.201761 \nL 591.231602 32.201761 \nL 594.026493 32.201761 \nL 596.821384 32.201761 \nL 599.616275 32.201761 \nL 602.411166 32.201761 \nL 605.206057 32.201761 \nL 608.000949 32.201761 \nL 610.79584 32.201761 \nL 613.590731 32.201761 \nL 616.385622 32.201761 \nL 619.180513 32.201761 \nL 621.975404 32.201761 \nL 624.770295 32.201761 \nL 627.565186 32.201761 \nL 630.360077 51.969034 \nL 633.154968 51.969034 \nL 635.949859 32.201761 \nL 638.74475 32.201761 \nL 641.539641 32.201761 \nL 644.334532 32.201761 \nL 647.129423 32.201761 \nL 649.924314 32.201761 \nL 652.719205 32.201761 \nL 655.514097 32.201761 \nL 658.308988 32.201761 \nL 661.103879 32.201761 \nL 663.89877 32.201761 \nL 666.693661 32.201761 \nL 669.488552 32.201761 \nL 672.283443 32.201761 \nL 675.078334 32.201761 \nL 677.873225 32.201761 \nL 680.668116 32.201761 \nL 683.463007 32.201761 \nL 686.257898 32.201761 \nL 689.052789 32.201761 \n\" style=\"fill:none;stroke:#ff0000;stroke-linecap:square;stroke-width:1.5;\"/>\n    <defs>\n     <path d=\"M -3 3 \nL 3 3 \nL 3 -3 \nL -3 -3 \nz\n\" id=\"ma168b68628\" style=\"stroke:#ff0000;stroke-linejoin:miter;\"/>\n    </defs>\n    <g clip-path=\"url(#p817eac23ed)\">\n     <use style=\"fill:#ff0000;stroke:#ff0000;stroke-linejoin:miter;\" x=\"412.358574\" xlink:href=\"#ma168b68628\" y=\"229.874489\"/>\n     <use style=\"fill:#ff0000;stroke:#ff0000;stroke-linejoin:miter;\" x=\"415.153465\" xlink:href=\"#ma168b68628\" y=\"229.874489\"/>\n     <use style=\"fill:#ff0000;stroke:#ff0000;stroke-linejoin:miter;\" x=\"417.948356\" xlink:href=\"#ma168b68628\" y=\"229.874489\"/>\n     <use style=\"fill:#ff0000;stroke:#ff0000;stroke-linejoin:miter;\" x=\"420.743248\" xlink:href=\"#ma168b68628\" y=\"229.874489\"/>\n     <use style=\"fill:#ff0000;stroke:#ff0000;stroke-linejoin:miter;\" x=\"423.538139\" xlink:href=\"#ma168b68628\" y=\"229.874489\"/>\n     <use style=\"fill:#ff0000;stroke:#ff0000;stroke-linejoin:miter;\" x=\"426.33303\" xlink:href=\"#ma168b68628\" y=\"229.874489\"/>\n     <use style=\"fill:#ff0000;stroke:#ff0000;stroke-linejoin:miter;\" x=\"429.127921\" xlink:href=\"#ma168b68628\" y=\"150.805398\"/>\n     <use style=\"fill:#ff0000;stroke:#ff0000;stroke-linejoin:miter;\" x=\"431.922812\" xlink:href=\"#ma168b68628\" y=\"150.805398\"/>\n     <use style=\"fill:#ff0000;stroke:#ff0000;stroke-linejoin:miter;\" x=\"434.717703\" xlink:href=\"#ma168b68628\" y=\"170.57267\"/>\n     <use style=\"fill:#ff0000;stroke:#ff0000;stroke-linejoin:miter;\" x=\"437.512594\" xlink:href=\"#ma168b68628\" y=\"190.339943\"/>\n     <use style=\"fill:#ff0000;stroke:#ff0000;stroke-linejoin:miter;\" x=\"440.307485\" xlink:href=\"#ma168b68628\" y=\"229.874489\"/>\n     <use style=\"fill:#ff0000;stroke:#ff0000;stroke-linejoin:miter;\" x=\"443.102376\" xlink:href=\"#ma168b68628\" y=\"229.874489\"/>\n     <use style=\"fill:#ff0000;stroke:#ff0000;stroke-linejoin:miter;\" x=\"445.897267\" xlink:href=\"#ma168b68628\" y=\"210.107216\"/>\n     <use style=\"fill:#ff0000;stroke:#ff0000;stroke-linejoin:miter;\" x=\"448.692158\" xlink:href=\"#ma168b68628\" y=\"229.874489\"/>\n     <use style=\"fill:#ff0000;stroke:#ff0000;stroke-linejoin:miter;\" x=\"451.487049\" xlink:href=\"#ma168b68628\" y=\"210.107216\"/>\n     <use style=\"fill:#ff0000;stroke:#ff0000;stroke-linejoin:miter;\" x=\"454.28194\" xlink:href=\"#ma168b68628\" y=\"190.339943\"/>\n     <use style=\"fill:#ff0000;stroke:#ff0000;stroke-linejoin:miter;\" x=\"457.076831\" xlink:href=\"#ma168b68628\" y=\"190.339943\"/>\n     <use style=\"fill:#ff0000;stroke:#ff0000;stroke-linejoin:miter;\" x=\"459.871722\" xlink:href=\"#ma168b68628\" y=\"111.270852\"/>\n     <use style=\"fill:#ff0000;stroke:#ff0000;stroke-linejoin:miter;\" x=\"462.666613\" xlink:href=\"#ma168b68628\" y=\"91.50358\"/>\n     <use style=\"fill:#ff0000;stroke:#ff0000;stroke-linejoin:miter;\" x=\"465.461505\" xlink:href=\"#ma168b68628\" y=\"131.038125\"/>\n     <use style=\"fill:#ff0000;stroke:#ff0000;stroke-linejoin:miter;\" x=\"468.256396\" xlink:href=\"#ma168b68628\" y=\"150.805398\"/>\n     <use style=\"fill:#ff0000;stroke:#ff0000;stroke-linejoin:miter;\" x=\"471.051287\" xlink:href=\"#ma168b68628\" y=\"190.339943\"/>\n     <use style=\"fill:#ff0000;stroke:#ff0000;stroke-linejoin:miter;\" x=\"473.846178\" xlink:href=\"#ma168b68628\" y=\"190.339943\"/>\n     <use style=\"fill:#ff0000;stroke:#ff0000;stroke-linejoin:miter;\" x=\"476.641069\" xlink:href=\"#ma168b68628\" y=\"210.107216\"/>\n     <use style=\"fill:#ff0000;stroke:#ff0000;stroke-linejoin:miter;\" x=\"479.43596\" xlink:href=\"#ma168b68628\" y=\"190.339943\"/>\n     <use style=\"fill:#ff0000;stroke:#ff0000;stroke-linejoin:miter;\" x=\"482.230851\" xlink:href=\"#ma168b68628\" y=\"170.57267\"/>\n     <use style=\"fill:#ff0000;stroke:#ff0000;stroke-linejoin:miter;\" x=\"485.025742\" xlink:href=\"#ma168b68628\" y=\"131.038125\"/>\n     <use style=\"fill:#ff0000;stroke:#ff0000;stroke-linejoin:miter;\" x=\"487.820633\" xlink:href=\"#ma168b68628\" y=\"111.270852\"/>\n     <use style=\"fill:#ff0000;stroke:#ff0000;stroke-linejoin:miter;\" x=\"490.615524\" xlink:href=\"#ma168b68628\" y=\"131.038125\"/>\n     <use style=\"fill:#ff0000;stroke:#ff0000;stroke-linejoin:miter;\" x=\"493.410415\" xlink:href=\"#ma168b68628\" y=\"150.805398\"/>\n     <use style=\"fill:#ff0000;stroke:#ff0000;stroke-linejoin:miter;\" x=\"496.205306\" xlink:href=\"#ma168b68628\" y=\"150.805398\"/>\n     <use style=\"fill:#ff0000;stroke:#ff0000;stroke-linejoin:miter;\" x=\"499.000197\" xlink:href=\"#ma168b68628\" y=\"150.805398\"/>\n     <use style=\"fill:#ff0000;stroke:#ff0000;stroke-linejoin:miter;\" x=\"501.795088\" xlink:href=\"#ma168b68628\" y=\"150.805398\"/>\n     <use style=\"fill:#ff0000;stroke:#ff0000;stroke-linejoin:miter;\" x=\"504.589979\" xlink:href=\"#ma168b68628\" y=\"131.038125\"/>\n     <use style=\"fill:#ff0000;stroke:#ff0000;stroke-linejoin:miter;\" x=\"507.38487\" xlink:href=\"#ma168b68628\" y=\"150.805398\"/>\n     <use style=\"fill:#ff0000;stroke:#ff0000;stroke-linejoin:miter;\" x=\"510.179761\" xlink:href=\"#ma168b68628\" y=\"190.339943\"/>\n     <use style=\"fill:#ff0000;stroke:#ff0000;stroke-linejoin:miter;\" x=\"512.974653\" xlink:href=\"#ma168b68628\" y=\"190.339943\"/>\n     <use style=\"fill:#ff0000;stroke:#ff0000;stroke-linejoin:miter;\" x=\"515.769544\" xlink:href=\"#ma168b68628\" y=\"71.736307\"/>\n     <use style=\"fill:#ff0000;stroke:#ff0000;stroke-linejoin:miter;\" x=\"518.564435\" xlink:href=\"#ma168b68628\" y=\"32.201761\"/>\n     <use style=\"fill:#ff0000;stroke:#ff0000;stroke-linejoin:miter;\" x=\"521.359326\" xlink:href=\"#ma168b68628\" y=\"71.736307\"/>\n     <use style=\"fill:#ff0000;stroke:#ff0000;stroke-linejoin:miter;\" x=\"524.154217\" xlink:href=\"#ma168b68628\" y=\"91.50358\"/>\n     <use style=\"fill:#ff0000;stroke:#ff0000;stroke-linejoin:miter;\" x=\"526.949108\" xlink:href=\"#ma168b68628\" y=\"111.270852\"/>\n     <use style=\"fill:#ff0000;stroke:#ff0000;stroke-linejoin:miter;\" x=\"529.743999\" xlink:href=\"#ma168b68628\" y=\"91.50358\"/>\n     <use style=\"fill:#ff0000;stroke:#ff0000;stroke-linejoin:miter;\" x=\"532.53889\" xlink:href=\"#ma168b68628\" y=\"91.50358\"/>\n     <use style=\"fill:#ff0000;stroke:#ff0000;stroke-linejoin:miter;\" x=\"535.333781\" xlink:href=\"#ma168b68628\" y=\"71.736307\"/>\n     <use style=\"fill:#ff0000;stroke:#ff0000;stroke-linejoin:miter;\" x=\"538.128672\" xlink:href=\"#ma168b68628\" y=\"71.736307\"/>\n     <use style=\"fill:#ff0000;stroke:#ff0000;stroke-linejoin:miter;\" x=\"540.923563\" xlink:href=\"#ma168b68628\" y=\"51.969034\"/>\n     <use style=\"fill:#ff0000;stroke:#ff0000;stroke-linejoin:miter;\" x=\"543.718454\" xlink:href=\"#ma168b68628\" y=\"51.969034\"/>\n     <use style=\"fill:#ff0000;stroke:#ff0000;stroke-linejoin:miter;\" x=\"546.513345\" xlink:href=\"#ma168b68628\" y=\"51.969034\"/>\n     <use style=\"fill:#ff0000;stroke:#ff0000;stroke-linejoin:miter;\" x=\"549.308236\" xlink:href=\"#ma168b68628\" y=\"51.969034\"/>\n     <use style=\"fill:#ff0000;stroke:#ff0000;stroke-linejoin:miter;\" x=\"552.103127\" xlink:href=\"#ma168b68628\" y=\"51.969034\"/>\n     <use style=\"fill:#ff0000;stroke:#ff0000;stroke-linejoin:miter;\" x=\"554.898018\" xlink:href=\"#ma168b68628\" y=\"71.736307\"/>\n     <use style=\"fill:#ff0000;stroke:#ff0000;stroke-linejoin:miter;\" x=\"557.692909\" xlink:href=\"#ma168b68628\" y=\"111.270852\"/>\n     <use style=\"fill:#ff0000;stroke:#ff0000;stroke-linejoin:miter;\" x=\"560.487801\" xlink:href=\"#ma168b68628\" y=\"71.736307\"/>\n     <use style=\"fill:#ff0000;stroke:#ff0000;stroke-linejoin:miter;\" x=\"563.282692\" xlink:href=\"#ma168b68628\" y=\"51.969034\"/>\n     <use style=\"fill:#ff0000;stroke:#ff0000;stroke-linejoin:miter;\" x=\"566.077583\" xlink:href=\"#ma168b68628\" y=\"51.969034\"/>\n     <use style=\"fill:#ff0000;stroke:#ff0000;stroke-linejoin:miter;\" x=\"568.872474\" xlink:href=\"#ma168b68628\" y=\"32.201761\"/>\n     <use style=\"fill:#ff0000;stroke:#ff0000;stroke-linejoin:miter;\" x=\"571.667365\" xlink:href=\"#ma168b68628\" y=\"51.969034\"/>\n     <use style=\"fill:#ff0000;stroke:#ff0000;stroke-linejoin:miter;\" x=\"574.462256\" xlink:href=\"#ma168b68628\" y=\"51.969034\"/>\n     <use style=\"fill:#ff0000;stroke:#ff0000;stroke-linejoin:miter;\" x=\"577.257147\" xlink:href=\"#ma168b68628\" y=\"51.969034\"/>\n     <use style=\"fill:#ff0000;stroke:#ff0000;stroke-linejoin:miter;\" x=\"580.052038\" xlink:href=\"#ma168b68628\" y=\"51.969034\"/>\n     <use style=\"fill:#ff0000;stroke:#ff0000;stroke-linejoin:miter;\" x=\"582.846929\" xlink:href=\"#ma168b68628\" y=\"51.969034\"/>\n     <use style=\"fill:#ff0000;stroke:#ff0000;stroke-linejoin:miter;\" x=\"585.64182\" xlink:href=\"#ma168b68628\" y=\"51.969034\"/>\n     <use style=\"fill:#ff0000;stroke:#ff0000;stroke-linejoin:miter;\" x=\"588.436711\" xlink:href=\"#ma168b68628\" y=\"32.201761\"/>\n     <use style=\"fill:#ff0000;stroke:#ff0000;stroke-linejoin:miter;\" x=\"591.231602\" xlink:href=\"#ma168b68628\" y=\"32.201761\"/>\n     <use style=\"fill:#ff0000;stroke:#ff0000;stroke-linejoin:miter;\" x=\"594.026493\" xlink:href=\"#ma168b68628\" y=\"32.201761\"/>\n     <use style=\"fill:#ff0000;stroke:#ff0000;stroke-linejoin:miter;\" x=\"596.821384\" xlink:href=\"#ma168b68628\" y=\"32.201761\"/>\n     <use style=\"fill:#ff0000;stroke:#ff0000;stroke-linejoin:miter;\" x=\"599.616275\" xlink:href=\"#ma168b68628\" y=\"32.201761\"/>\n     <use style=\"fill:#ff0000;stroke:#ff0000;stroke-linejoin:miter;\" x=\"602.411166\" xlink:href=\"#ma168b68628\" y=\"32.201761\"/>\n     <use style=\"fill:#ff0000;stroke:#ff0000;stroke-linejoin:miter;\" x=\"605.206057\" xlink:href=\"#ma168b68628\" y=\"32.201761\"/>\n     <use style=\"fill:#ff0000;stroke:#ff0000;stroke-linejoin:miter;\" x=\"608.000949\" xlink:href=\"#ma168b68628\" y=\"32.201761\"/>\n     <use style=\"fill:#ff0000;stroke:#ff0000;stroke-linejoin:miter;\" x=\"610.79584\" xlink:href=\"#ma168b68628\" y=\"32.201761\"/>\n     <use style=\"fill:#ff0000;stroke:#ff0000;stroke-linejoin:miter;\" x=\"613.590731\" xlink:href=\"#ma168b68628\" y=\"32.201761\"/>\n     <use style=\"fill:#ff0000;stroke:#ff0000;stroke-linejoin:miter;\" x=\"616.385622\" xlink:href=\"#ma168b68628\" y=\"32.201761\"/>\n     <use style=\"fill:#ff0000;stroke:#ff0000;stroke-linejoin:miter;\" x=\"619.180513\" xlink:href=\"#ma168b68628\" y=\"32.201761\"/>\n     <use style=\"fill:#ff0000;stroke:#ff0000;stroke-linejoin:miter;\" x=\"621.975404\" xlink:href=\"#ma168b68628\" y=\"32.201761\"/>\n     <use style=\"fill:#ff0000;stroke:#ff0000;stroke-linejoin:miter;\" x=\"624.770295\" xlink:href=\"#ma168b68628\" y=\"32.201761\"/>\n     <use style=\"fill:#ff0000;stroke:#ff0000;stroke-linejoin:miter;\" x=\"627.565186\" xlink:href=\"#ma168b68628\" y=\"32.201761\"/>\n     <use style=\"fill:#ff0000;stroke:#ff0000;stroke-linejoin:miter;\" x=\"630.360077\" xlink:href=\"#ma168b68628\" y=\"51.969034\"/>\n     <use style=\"fill:#ff0000;stroke:#ff0000;stroke-linejoin:miter;\" x=\"633.154968\" xlink:href=\"#ma168b68628\" y=\"51.969034\"/>\n     <use style=\"fill:#ff0000;stroke:#ff0000;stroke-linejoin:miter;\" x=\"635.949859\" xlink:href=\"#ma168b68628\" y=\"32.201761\"/>\n     <use style=\"fill:#ff0000;stroke:#ff0000;stroke-linejoin:miter;\" x=\"638.74475\" xlink:href=\"#ma168b68628\" y=\"32.201761\"/>\n     <use style=\"fill:#ff0000;stroke:#ff0000;stroke-linejoin:miter;\" x=\"641.539641\" xlink:href=\"#ma168b68628\" y=\"32.201761\"/>\n     <use style=\"fill:#ff0000;stroke:#ff0000;stroke-linejoin:miter;\" x=\"644.334532\" xlink:href=\"#ma168b68628\" y=\"32.201761\"/>\n     <use style=\"fill:#ff0000;stroke:#ff0000;stroke-linejoin:miter;\" x=\"647.129423\" xlink:href=\"#ma168b68628\" y=\"32.201761\"/>\n     <use style=\"fill:#ff0000;stroke:#ff0000;stroke-linejoin:miter;\" x=\"649.924314\" xlink:href=\"#ma168b68628\" y=\"32.201761\"/>\n     <use style=\"fill:#ff0000;stroke:#ff0000;stroke-linejoin:miter;\" x=\"652.719205\" xlink:href=\"#ma168b68628\" y=\"32.201761\"/>\n     <use style=\"fill:#ff0000;stroke:#ff0000;stroke-linejoin:miter;\" x=\"655.514097\" xlink:href=\"#ma168b68628\" y=\"32.201761\"/>\n     <use style=\"fill:#ff0000;stroke:#ff0000;stroke-linejoin:miter;\" x=\"658.308988\" xlink:href=\"#ma168b68628\" y=\"32.201761\"/>\n     <use style=\"fill:#ff0000;stroke:#ff0000;stroke-linejoin:miter;\" x=\"661.103879\" xlink:href=\"#ma168b68628\" y=\"32.201761\"/>\n     <use style=\"fill:#ff0000;stroke:#ff0000;stroke-linejoin:miter;\" x=\"663.89877\" xlink:href=\"#ma168b68628\" y=\"32.201761\"/>\n     <use style=\"fill:#ff0000;stroke:#ff0000;stroke-linejoin:miter;\" x=\"666.693661\" xlink:href=\"#ma168b68628\" y=\"32.201761\"/>\n     <use style=\"fill:#ff0000;stroke:#ff0000;stroke-linejoin:miter;\" x=\"669.488552\" xlink:href=\"#ma168b68628\" y=\"32.201761\"/>\n     <use style=\"fill:#ff0000;stroke:#ff0000;stroke-linejoin:miter;\" x=\"672.283443\" xlink:href=\"#ma168b68628\" y=\"32.201761\"/>\n     <use style=\"fill:#ff0000;stroke:#ff0000;stroke-linejoin:miter;\" x=\"675.078334\" xlink:href=\"#ma168b68628\" y=\"32.201761\"/>\n     <use style=\"fill:#ff0000;stroke:#ff0000;stroke-linejoin:miter;\" x=\"677.873225\" xlink:href=\"#ma168b68628\" y=\"32.201761\"/>\n     <use style=\"fill:#ff0000;stroke:#ff0000;stroke-linejoin:miter;\" x=\"680.668116\" xlink:href=\"#ma168b68628\" y=\"32.201761\"/>\n     <use style=\"fill:#ff0000;stroke:#ff0000;stroke-linejoin:miter;\" x=\"683.463007\" xlink:href=\"#ma168b68628\" y=\"32.201761\"/>\n     <use style=\"fill:#ff0000;stroke:#ff0000;stroke-linejoin:miter;\" x=\"686.257898\" xlink:href=\"#ma168b68628\" y=\"32.201761\"/>\n     <use style=\"fill:#ff0000;stroke:#ff0000;stroke-linejoin:miter;\" x=\"689.052789\" xlink:href=\"#ma168b68628\" y=\"32.201761\"/>\n    </g>\n   </g>\n   <g id=\"patch_8\">\n    <path d=\"M 398.523864 239.758125 \nL 398.523864 22.318125 \n\" style=\"fill:none;stroke:#000000;stroke-linecap:square;stroke-linejoin:miter;stroke-width:0.8;\"/>\n   </g>\n   <g id=\"patch_9\">\n    <path d=\"M 702.8875 239.758125 \nL 702.8875 22.318125 \n\" style=\"fill:none;stroke:#000000;stroke-linecap:square;stroke-linejoin:miter;stroke-width:0.8;\"/>\n   </g>\n   <g id=\"patch_10\">\n    <path d=\"M 398.523864 239.758125 \nL 702.8875 239.758125 \n\" style=\"fill:none;stroke:#000000;stroke-linecap:square;stroke-linejoin:miter;stroke-width:0.8;\"/>\n   </g>\n   <g id=\"patch_11\">\n    <path d=\"M 398.523864 22.318125 \nL 702.8875 22.318125 \n\" style=\"fill:none;stroke:#000000;stroke-linecap:square;stroke-linejoin:miter;stroke-width:0.8;\"/>\n   </g>\n   <g id=\"text_29\">\n    <!-- test and train accuracy -->\n    <defs>\n     <path d=\"M 18.3125 70.21875 \nL 18.3125 54.6875 \nL 36.8125 54.6875 \nL 36.8125 47.703125 \nL 18.3125 47.703125 \nL 18.3125 18.015625 \nQ 18.3125 11.328125 20.140625 9.421875 \nQ 21.96875 7.515625 27.59375 7.515625 \nL 36.8125 7.515625 \nL 36.8125 0 \nL 27.59375 0 \nQ 17.1875 0 13.234375 3.875 \nQ 9.28125 7.765625 9.28125 18.015625 \nL 9.28125 47.703125 \nL 2.6875 47.703125 \nL 2.6875 54.6875 \nL 9.28125 54.6875 \nL 9.28125 70.21875 \nz\n\" id=\"DejaVuSans-116\"/>\n     <path d=\"M 56.203125 29.59375 \nL 56.203125 25.203125 \nL 14.890625 25.203125 \nQ 15.484375 15.921875 20.484375 11.0625 \nQ 25.484375 6.203125 34.421875 6.203125 \nQ 39.59375 6.203125 44.453125 7.46875 \nQ 49.3125 8.734375 54.109375 11.28125 \nL 54.109375 2.78125 \nQ 49.265625 0.734375 44.1875 -0.34375 \nQ 39.109375 -1.421875 33.890625 -1.421875 \nQ 20.796875 -1.421875 13.15625 6.1875 \nQ 5.515625 13.8125 5.515625 26.8125 \nQ 5.515625 40.234375 12.765625 48.109375 \nQ 20.015625 56 32.328125 56 \nQ 43.359375 56 49.78125 48.890625 \nQ 56.203125 41.796875 56.203125 29.59375 \nz\nM 47.21875 32.234375 \nQ 47.125 39.59375 43.09375 43.984375 \nQ 39.0625 48.390625 32.421875 48.390625 \nQ 24.90625 48.390625 20.390625 44.140625 \nQ 15.875 39.890625 15.1875 32.171875 \nz\n\" id=\"DejaVuSans-101\"/>\n     <path id=\"DejaVuSans-32\"/>\n     <path d=\"M 34.28125 27.484375 \nQ 23.390625 27.484375 19.1875 25 \nQ 14.984375 22.515625 14.984375 16.5 \nQ 14.984375 11.71875 18.140625 8.90625 \nQ 21.296875 6.109375 26.703125 6.109375 \nQ 34.1875 6.109375 38.703125 11.40625 \nQ 43.21875 16.703125 43.21875 25.484375 \nL 43.21875 27.484375 \nz\nM 52.203125 31.203125 \nL 52.203125 0 \nL 43.21875 0 \nL 43.21875 8.296875 \nQ 40.140625 3.328125 35.546875 0.953125 \nQ 30.953125 -1.421875 24.3125 -1.421875 \nQ 15.921875 -1.421875 10.953125 3.296875 \nQ 6 8.015625 6 15.921875 \nQ 6 25.140625 12.171875 29.828125 \nQ 18.359375 34.515625 30.609375 34.515625 \nL 43.21875 34.515625 \nL 43.21875 35.40625 \nQ 43.21875 41.609375 39.140625 45 \nQ 35.0625 48.390625 27.6875 48.390625 \nQ 23 48.390625 18.546875 47.265625 \nQ 14.109375 46.140625 10.015625 43.890625 \nL 10.015625 52.203125 \nQ 14.9375 54.109375 19.578125 55.046875 \nQ 24.21875 56 28.609375 56 \nQ 40.484375 56 46.34375 49.84375 \nQ 52.203125 43.703125 52.203125 31.203125 \nz\n\" id=\"DejaVuSans-97\"/>\n     <path d=\"M 54.890625 33.015625 \nL 54.890625 0 \nL 45.90625 0 \nL 45.90625 32.71875 \nQ 45.90625 40.484375 42.875 44.328125 \nQ 39.84375 48.1875 33.796875 48.1875 \nQ 26.515625 48.1875 22.3125 43.546875 \nQ 18.109375 38.921875 18.109375 30.90625 \nL 18.109375 0 \nL 9.078125 0 \nL 9.078125 54.6875 \nL 18.109375 54.6875 \nL 18.109375 46.1875 \nQ 21.34375 51.125 25.703125 53.5625 \nQ 30.078125 56 35.796875 56 \nQ 45.21875 56 50.046875 50.171875 \nQ 54.890625 44.34375 54.890625 33.015625 \nz\n\" id=\"DejaVuSans-110\"/>\n     <path d=\"M 45.40625 46.390625 \nL 45.40625 75.984375 \nL 54.390625 75.984375 \nL 54.390625 0 \nL 45.40625 0 \nL 45.40625 8.203125 \nQ 42.578125 3.328125 38.25 0.953125 \nQ 33.9375 -1.421875 27.875 -1.421875 \nQ 17.96875 -1.421875 11.734375 6.484375 \nQ 5.515625 14.40625 5.515625 27.296875 \nQ 5.515625 40.1875 11.734375 48.09375 \nQ 17.96875 56 27.875 56 \nQ 33.9375 56 38.25 53.625 \nQ 42.578125 51.265625 45.40625 46.390625 \nz\nM 14.796875 27.296875 \nQ 14.796875 17.390625 18.875 11.75 \nQ 22.953125 6.109375 30.078125 6.109375 \nQ 37.203125 6.109375 41.296875 11.75 \nQ 45.40625 17.390625 45.40625 27.296875 \nQ 45.40625 37.203125 41.296875 42.84375 \nQ 37.203125 48.484375 30.078125 48.484375 \nQ 22.953125 48.484375 18.875 42.84375 \nQ 14.796875 37.203125 14.796875 27.296875 \nz\n\" id=\"DejaVuSans-100\"/>\n     <path d=\"M 41.109375 46.296875 \nQ 39.59375 47.171875 37.8125 47.578125 \nQ 36.03125 48 33.890625 48 \nQ 26.265625 48 22.1875 43.046875 \nQ 18.109375 38.09375 18.109375 28.8125 \nL 18.109375 0 \nL 9.078125 0 \nL 9.078125 54.6875 \nL 18.109375 54.6875 \nL 18.109375 46.1875 \nQ 20.953125 51.171875 25.484375 53.578125 \nQ 30.03125 56 36.53125 56 \nQ 37.453125 56 38.578125 55.875 \nQ 39.703125 55.765625 41.0625 55.515625 \nz\n\" id=\"DejaVuSans-114\"/>\n     <path d=\"M 9.421875 54.6875 \nL 18.40625 54.6875 \nL 18.40625 0 \nL 9.421875 0 \nz\nM 9.421875 75.984375 \nL 18.40625 75.984375 \nL 18.40625 64.59375 \nL 9.421875 64.59375 \nz\n\" id=\"DejaVuSans-105\"/>\n     <path d=\"M 8.5 21.578125 \nL 8.5 54.6875 \nL 17.484375 54.6875 \nL 17.484375 21.921875 \nQ 17.484375 14.15625 20.5 10.265625 \nQ 23.53125 6.390625 29.59375 6.390625 \nQ 36.859375 6.390625 41.078125 11.03125 \nQ 45.3125 15.671875 45.3125 23.6875 \nL 45.3125 54.6875 \nL 54.296875 54.6875 \nL 54.296875 0 \nL 45.3125 0 \nL 45.3125 8.40625 \nQ 42.046875 3.421875 37.71875 1 \nQ 33.40625 -1.421875 27.6875 -1.421875 \nQ 18.265625 -1.421875 13.375 4.4375 \nQ 8.5 10.296875 8.5 21.578125 \nz\nM 31.109375 56 \nz\n\" id=\"DejaVuSans-117\"/>\n    </defs>\n    <g transform=\"translate(481.138494 16.318125)scale(0.12 -0.12)\">\n     <use xlink:href=\"#DejaVuSans-116\"/>\n     <use x=\"39.208984\" xlink:href=\"#DejaVuSans-101\"/>\n     <use x=\"100.732422\" xlink:href=\"#DejaVuSans-115\"/>\n     <use x=\"152.832031\" xlink:href=\"#DejaVuSans-116\"/>\n     <use x=\"192.041016\" xlink:href=\"#DejaVuSans-32\"/>\n     <use x=\"223.828125\" xlink:href=\"#DejaVuSans-97\"/>\n     <use x=\"285.107422\" xlink:href=\"#DejaVuSans-110\"/>\n     <use x=\"348.486328\" xlink:href=\"#DejaVuSans-100\"/>\n     <use x=\"411.962891\" xlink:href=\"#DejaVuSans-32\"/>\n     <use x=\"443.75\" xlink:href=\"#DejaVuSans-116\"/>\n     <use x=\"482.958984\" xlink:href=\"#DejaVuSans-114\"/>\n     <use x=\"524.072266\" xlink:href=\"#DejaVuSans-97\"/>\n     <use x=\"585.351562\" xlink:href=\"#DejaVuSans-105\"/>\n     <use x=\"613.134766\" xlink:href=\"#DejaVuSans-110\"/>\n     <use x=\"676.513672\" xlink:href=\"#DejaVuSans-32\"/>\n     <use x=\"708.300781\" xlink:href=\"#DejaVuSans-97\"/>\n     <use x=\"769.580078\" xlink:href=\"#DejaVuSans-99\"/>\n     <use x=\"824.560547\" xlink:href=\"#DejaVuSans-99\"/>\n     <use x=\"879.541016\" xlink:href=\"#DejaVuSans-117\"/>\n     <use x=\"942.919922\" xlink:href=\"#DejaVuSans-114\"/>\n     <use x=\"984.033203\" xlink:href=\"#DejaVuSans-97\"/>\n     <use x=\"1045.3125\" xlink:href=\"#DejaVuSans-99\"/>\n     <use x=\"1100.292969\" xlink:href=\"#DejaVuSans-121\"/>\n    </g>\n   </g>\n   <g id=\"legend_1\">\n    <g id=\"patch_12\">\n     <path d=\"M 405.523864 59.674375 \nL 486.501989 59.674375 \nQ 488.501989 59.674375 488.501989 57.674375 \nL 488.501989 29.318125 \nQ 488.501989 27.318125 486.501989 27.318125 \nL 405.523864 27.318125 \nQ 403.523864 27.318125 403.523864 29.318125 \nL 403.523864 57.674375 \nQ 403.523864 59.674375 405.523864 59.674375 \nz\n\" style=\"fill:#ffffff;opacity:0.8;stroke:#cccccc;stroke-linejoin:miter;\"/>\n    </g>\n    <g id=\"line2d_28\">\n     <path d=\"M 407.523864 35.416562 \nL 427.523864 35.416562 \n\" style=\"fill:none;stroke:#0000ff;stroke-linecap:square;stroke-width:1.5;\"/>\n    </g>\n    <g id=\"line2d_29\">\n     <g>\n      <use style=\"fill:#0000ff;stroke:#0000ff;\" x=\"417.523864\" xlink:href=\"#m7498546fa6\" y=\"35.416562\"/>\n     </g>\n    </g>\n    <g id=\"text_30\">\n     <!-- train data -->\n     <g transform=\"translate(435.523864 38.916562)scale(0.1 -0.1)\">\n      <use xlink:href=\"#DejaVuSans-116\"/>\n      <use x=\"39.208984\" xlink:href=\"#DejaVuSans-114\"/>\n      <use x=\"80.322266\" xlink:href=\"#DejaVuSans-97\"/>\n      <use x=\"141.601562\" xlink:href=\"#DejaVuSans-105\"/>\n      <use x=\"169.384766\" xlink:href=\"#DejaVuSans-110\"/>\n      <use x=\"232.763672\" xlink:href=\"#DejaVuSans-32\"/>\n      <use x=\"264.550781\" xlink:href=\"#DejaVuSans-100\"/>\n      <use x=\"328.027344\" xlink:href=\"#DejaVuSans-97\"/>\n      <use x=\"389.306641\" xlink:href=\"#DejaVuSans-116\"/>\n      <use x=\"428.515625\" xlink:href=\"#DejaVuSans-97\"/>\n     </g>\n    </g>\n    <g id=\"line2d_30\">\n     <path d=\"M 407.523864 50.094687 \nL 427.523864 50.094687 \n\" style=\"fill:none;stroke:#ff0000;stroke-linecap:square;stroke-width:1.5;\"/>\n    </g>\n    <g id=\"line2d_31\">\n     <g>\n      <use style=\"fill:#ff0000;stroke:#ff0000;stroke-linejoin:miter;\" x=\"417.523864\" xlink:href=\"#ma168b68628\" y=\"50.094687\"/>\n     </g>\n    </g>\n    <g id=\"text_31\">\n     <!-- test data -->\n     <g transform=\"translate(435.523864 53.594687)scale(0.1 -0.1)\">\n      <use xlink:href=\"#DejaVuSans-116\"/>\n      <use x=\"39.208984\" xlink:href=\"#DejaVuSans-101\"/>\n      <use x=\"100.732422\" xlink:href=\"#DejaVuSans-115\"/>\n      <use x=\"152.832031\" xlink:href=\"#DejaVuSans-116\"/>\n      <use x=\"192.041016\" xlink:href=\"#DejaVuSans-32\"/>\n      <use x=\"223.828125\" xlink:href=\"#DejaVuSans-100\"/>\n      <use x=\"287.304688\" xlink:href=\"#DejaVuSans-97\"/>\n      <use x=\"348.583984\" xlink:href=\"#DejaVuSans-116\"/>\n      <use x=\"387.792969\" xlink:href=\"#DejaVuSans-97\"/>\n     </g>\n    </g>\n   </g>\n  </g>\n </g>\n <defs>\n  <clipPath id=\"p6dc9456d0b\">\n   <rect height=\"217.44\" width=\"304.363636\" x=\"33.2875\" y=\"22.318125\"/>\n  </clipPath>\n  <clipPath id=\"p817eac23ed\">\n   <rect height=\"217.44\" width=\"304.363636\" x=\"398.523864\" y=\"22.318125\"/>\n  </clipPath>\n </defs>\n</svg>\n"
          },
          "metadata": {
            "needs_background": "light"
          }
        }
      ]
    },
    {
      "cell_type": "code",
      "metadata": {
        "id": "WArSzFCaDsku"
      },
      "source": [
        ""
      ],
      "execution_count": 967,
      "outputs": []
    }
  ]
}