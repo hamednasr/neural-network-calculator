{
  "nbformat": 4,
  "nbformat_minor": 0,
  "metadata": {
    "colab": {
      "name": "my code - neural network calculator.ipynb",
      "provenance": [],
      "collapsed_sections": [],
      "authorship_tag": "ABX9TyNTsZrMuV9uL0L1snZOF8uw",
      "include_colab_link": true
    },
    "kernelspec": {
      "display_name": "Python 3",
      "name": "python3"
    },
    "language_info": {
      "name": "python"
    }
  },
  "cells": [
    {
      "cell_type": "markdown",
      "metadata": {
        "id": "view-in-github",
        "colab_type": "text"
      },
      "source": [
        "<a href=\"https://colab.research.google.com/github/hamednasr/neural-network-calculator/blob/main/my_code_neural_network_calculator.ipynb\" target=\"_parent\"><img src=\"https://colab.research.google.com/assets/colab-badge.svg\" alt=\"Open In Colab\"/></a>"
      ]
    },
    {
      "cell_type": "markdown",
      "metadata": {
        "id": "lJL6PGuf621A"
      },
      "source": [
        "# **neural network calculator**"
      ]
    },
    {
      "cell_type": "code",
      "metadata": {
        "id": "w4MmkWvSok0U"
      },
      "source": [
        "import torch\n",
        "import torch.nn as nn\n",
        "import torch.nn.functional as F\n",
        "from torch.utils.data import DataLoader,TensorDataset\n",
        "import numpy as np\n",
        "import matplotlib.pyplot as plt\n",
        "from sklearn.model_selection import train_test_split\n",
        "from sklearn.metrics import confusion_matrix, classification_report"
      ],
      "execution_count": 13,
      "outputs": []
    },
    {
      "cell_type": "markdown",
      "metadata": {
        "id": "EVC-aPGI68TC"
      },
      "source": [
        "# creat data sets"
      ]
    },
    {
      "cell_type": "code",
      "metadata": {
        "colab": {
          "base_uri": "https://localhost:8080/"
        },
        "id": "VVEsqLuBpBC7",
        "outputId": "712c0db4-aefe-4547-d0f6-b21cad146f8c"
      },
      "source": [
        "data = np.random.randint(-20,21,(3000,2))\n",
        "data"
      ],
      "execution_count": 42,
      "outputs": [
        {
          "output_type": "execute_result",
          "data": {
            "text/plain": [
              "array([[-16,  20],\n",
              "       [ 11,  -5],\n",
              "       [ -4,   4],\n",
              "       ...,\n",
              "       [-19,  20],\n",
              "       [  8,   0],\n",
              "       [ 20,   5]])"
            ]
          },
          "metadata": {},
          "execution_count": 42
        }
      ]
    },
    {
      "cell_type": "code",
      "metadata": {
        "colab": {
          "base_uri": "https://localhost:8080/"
        },
        "id": "Ln8E4CQNpYnR",
        "outputId": "4b56293c-b996-430a-d238-3c5738242809"
      },
      "source": [
        "z = np.sum(data, axis =1)\n",
        "z = z[:,None]\n",
        "z"
      ],
      "execution_count": 43,
      "outputs": [
        {
          "output_type": "execute_result",
          "data": {
            "text/plain": [
              "array([[ 4],\n",
              "       [ 6],\n",
              "       [ 0],\n",
              "       ...,\n",
              "       [ 1],\n",
              "       [ 8],\n",
              "       [25]])"
            ]
          },
          "metadata": {},
          "execution_count": 43
        }
      ]
    },
    {
      "cell_type": "code",
      "metadata": {
        "colab": {
          "base_uri": "https://localhost:8080/"
        },
        "id": "OciaALhLqdCr",
        "outputId": "679f2cac-8459-433a-c3df-c0ebf3e66923"
      },
      "source": [
        "dataT = torch.FloatTensor(data)\n",
        "dataT"
      ],
      "execution_count": 44,
      "outputs": [
        {
          "output_type": "execute_result",
          "data": {
            "text/plain": [
              "tensor([[-16.,  20.],\n",
              "        [ 11.,  -5.],\n",
              "        [ -4.,   4.],\n",
              "        ...,\n",
              "        [-19.,  20.],\n",
              "        [  8.,   0.],\n",
              "        [ 20.,   5.]])"
            ]
          },
          "metadata": {},
          "execution_count": 44
        }
      ]
    },
    {
      "cell_type": "code",
      "metadata": {
        "colab": {
          "base_uri": "https://localhost:8080/"
        },
        "id": "ViXOfduRq78M",
        "outputId": "0f5b0878-b7d5-415b-dddb-1754bab7d217"
      },
      "source": [
        "zT=torch.FloatTensor(z)\n",
        "zT"
      ],
      "execution_count": 45,
      "outputs": [
        {
          "output_type": "execute_result",
          "data": {
            "text/plain": [
              "tensor([[ 4.],\n",
              "        [ 6.],\n",
              "        [ 0.],\n",
              "        ...,\n",
              "        [ 1.],\n",
              "        [ 8.],\n",
              "        [25.]])"
            ]
          },
          "metadata": {},
          "execution_count": 45
        }
      ]
    },
    {
      "cell_type": "markdown",
      "metadata": {
        "id": "WY1MXCJO7JDo"
      },
      "source": [
        "# create dataloader objects"
      ]
    },
    {
      "cell_type": "code",
      "metadata": {
        "id": "lomKtr-JrKcD"
      },
      "source": [
        "train_data,test_data,train_labels,test_labels = train_test_split(dataT,zT,test_size=0.1)\n",
        "\n",
        "train_sets = TensorDataset(train_data,train_labels)\n",
        "test_sets = TensorDataset(test_data,test_labels)\n",
        "\n",
        "batchsize = 32\n",
        "train_loader = DataLoader(train_sets, batch_size=batchsize, shuffle=True, drop_last=True)\n",
        "test_loader = DataLoader(test_sets, batch_size=test_sets.tensors[0].shape[0])"
      ],
      "execution_count": 46,
      "outputs": []
    },
    {
      "cell_type": "code",
      "metadata": {
        "colab": {
          "base_uri": "https://localhost:8080/"
        },
        "id": "v6zmcs8h4lhu",
        "outputId": "557b45b0-db5f-4d1a-a252-54710c475c9f"
      },
      "source": [
        "train_loader.dataset.tensors"
      ],
      "execution_count": 47,
      "outputs": [
        {
          "output_type": "execute_result",
          "data": {
            "text/plain": [
              "(tensor([[-14.,  -5.],\n",
              "         [ 10.,  16.],\n",
              "         [-10.,  14.],\n",
              "         ...,\n",
              "         [  8.,   8.],\n",
              "         [-20.,  10.],\n",
              "         [  8.,  -3.]]), tensor([[-19.],\n",
              "         [ 26.],\n",
              "         [  4.],\n",
              "         ...,\n",
              "         [ 16.],\n",
              "         [-10.],\n",
              "         [  5.]]))"
            ]
          },
          "metadata": {},
          "execution_count": 47
        }
      ]
    },
    {
      "cell_type": "markdown",
      "metadata": {
        "id": "0cy9U-jurumn"
      },
      "source": [
        "# creat model"
      ]
    },
    {
      "cell_type": "code",
      "metadata": {
        "id": "cajbRnuQ5nL3"
      },
      "source": [
        "def CreatModel():\n",
        "\n",
        "  ANNcal = nn.Sequential(\n",
        "              nn.Linear(2,128),\n",
        "              nn.ReLU(),\n",
        "              nn.Linear(128,256),\n",
        "              nn.ReLU(),\n",
        "              nn.Linear(256,256),\n",
        "              nn.ReLU(),\n",
        "              nn.Linear(256,1) \n",
        "                        )\n",
        "\n",
        "  lossfun = nn.MSELoss()\n",
        "\n",
        "  optimizer = torch.optim.Adam(params=ANNcal.parameters(), lr=0.005)\n",
        "\n",
        "  return ANNcal, lossfun, optimizer"
      ],
      "execution_count": 21,
      "outputs": []
    },
    {
      "cell_type": "markdown",
      "metadata": {
        "id": "9p9diGD2BLQh"
      },
      "source": [
        "## test the created model:"
      ]
    },
    {
      "cell_type": "code",
      "metadata": {
        "colab": {
          "base_uri": "https://localhost:8080/"
        },
        "id": "fLK70IONAlJl",
        "outputId": "aa1c7878-4865-4edd-9ff6-f17fd925a456"
      },
      "source": [
        "ANNcal, lossfun, optimizer = CreatModel()\n",
        "d = torch.FloatTensor(np.random.randint(-20,21,(3,2)))\n",
        "\n",
        "l = torch.sum(d,axis=1)\n",
        "l = l[:,None]\n",
        "# print(d)\n",
        "print('data is: \\n', d)\n",
        "print('label is: \\n', l)\n",
        "print(l.shape)\n",
        "yhat = ANNcal(d)\n",
        "print(yhat)\n",
        "print(nn.MSELoss()(yhat,l))#.detach().item()\n",
        "# print('yhat is: \\n', yhat)\n",
        "np.corrcoef(l.T,yhat.detach().T)[0,1]"
      ],
      "execution_count": 31,
      "outputs": [
        {
          "output_type": "stream",
          "name": "stdout",
          "text": [
            "data is: \n",
            " tensor([[-15.,  17.],\n",
            "        [-10., -14.],\n",
            "        [-13.,   1.]])\n",
            "label is: \n",
            " tensor([[  2.],\n",
            "        [-24.],\n",
            "        [-12.]])\n",
            "torch.Size([3, 1])\n",
            "tensor([[0.3826],\n",
            "        [0.6379],\n",
            "        [0.3799]], grad_fn=<AddmmBackward0>)\n",
            "tensor(254.3016, grad_fn=<MseLossBackward0>)\n"
          ]
        },
        {
          "output_type": "execute_result",
          "data": {
            "text/plain": [
              "-0.8381093194612155"
            ]
          },
          "metadata": {},
          "execution_count": 31
        }
      ]
    },
    {
      "cell_type": "markdown",
      "metadata": {
        "id": "if94WGYbr1W6"
      },
      "source": [
        ""
      ]
    },
    {
      "cell_type": "code",
      "metadata": {
        "id": "Ww8PX7FH6ysE"
      },
      "source": [
        ""
      ],
      "execution_count": 40,
      "outputs": []
    },
    {
      "cell_type": "code",
      "metadata": {
        "id": "jGuSFMNI6yns"
      },
      "source": [
        ""
      ],
      "execution_count": null,
      "outputs": []
    },
    {
      "cell_type": "code",
      "metadata": {
        "id": "CvYbZeOE6ylO"
      },
      "source": [
        ""
      ],
      "execution_count": null,
      "outputs": []
    },
    {
      "cell_type": "code",
      "metadata": {
        "id": "Y0O4AgNm6ygz"
      },
      "source": [
        ""
      ],
      "execution_count": null,
      "outputs": []
    }
  ]
}